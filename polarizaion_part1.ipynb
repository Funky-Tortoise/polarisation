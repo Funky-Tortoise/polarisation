{
 "cells": [
  {
   "attachments": {},
   "cell_type": "markdown",
   "metadata": {},
   "source": [
    "## code"
   ]
  },
  {
   "cell_type": "code",
   "execution_count": 67,
   "metadata": {},
   "outputs": [],
   "source": [
    "import pandas as pd\n",
    "import numpy as np\n",
    "import hvplot.pandas  # noqa\n",
    "import matplotlib.pyplot as plt\n",
    "import logging\n",
    "import copy\n",
    "from scipy.optimize import curve_fit\n",
    "from sklearn.metrics import r2_score\n",
    "\n",
    "import plotly.graph_objects as go\n",
    "from plotly.subplots import make_subplots\n",
    "import plotly.express as px\n",
    "\n",
    "# import lab_tools\n",
    "import pickle\n",
    "logging.basicConfig(level=logging.INFO)\n",
    "import math\n",
    "from scipy.constants import mu_0 as mu_0\n",
    "from uncertainties import ufloat\n",
    "import uncertainties\n",
    "from uncertainties.umath import * \n",
    "from uncertainties import unumpy\n",
    "from matplotlib import pyplot\n",
    "import os\n",
    "from collections import OrderedDict\n",
    "\n",
    "def uplot(x_ufloats, y_ufloats, ax=plt, **kwargs):\n",
    "    getattr(ax, 'errorbar')\n",
    "    plt.errorbar( unumpy.nominal_values(x_ufloats), unumpy.nominal_values(y_ufloats),\n",
    "      xerr=unumpy.std_devs(x_ufloats), yerr= unumpy.std_devs(y_ufloats),ecolor='green',barsabove=True, **kwargs )\n",
    "\n",
    "\n",
    "def load_pickle(name):\n",
    "    with open(os.path.join('pickles',f'{name}.pickle'), 'rb') as handle:\n",
    "        return pickle.load(handle)\n",
    "\n",
    "def save_pickle(name, pick):\n",
    "    if not os.path.exists('pickles'):\n",
    "        os.makedirs('pickles')\n",
    "    with open(os.path.join('pickles',f'{name}.pickle'), 'wb') as handle:\n",
    "        return pickle.dump(pick,handle)\n",
    "\n",
    "def load_state(state = 'state'):\n",
    "    globals().update(load_pickle(state))\n",
    "\n",
    "def save_state():\n",
    "    data = {k:v for k,v in globals().items() if not k.startswith('_')}\n",
    "    print(data)\n",
    "    save_pickle('state', {k:v for k,v in globals().items() if not k.startswith('_')})\n",
    "\n",
    "def malus_fit(x, a, b):\n",
    "    return a * np.cos(x - b)**2\n",
    "\n",
    "def clean_errors(df):\n",
    "    return df.applymap(unumpy.nominal_values)\n",
    "\n",
    "def to_matlab(df, name):\n",
    "    df.applymap(unumpy.nominal_values).to_csv(f'{name}.csv', index=False)\n",
    "\n",
    "\n",
    "def genrate_fit_data(df, col, addition=10):\n",
    "    max = unumpy.nominal_values(df[col].max())\n",
    "    min = unumpy.nominal_values(df[col].min())\n",
    "    return np.linspace(min - addition, max + addition, 100)\n",
    "\n",
    "    \n",
    "def read_to_dict(folder):\n",
    "    csv_files = os.listdir(folder)\n",
    "    data_dict = {}\n",
    "    for x in csv_files:\n",
    "        path = os.path.join(folder, x)\n",
    "        try:\n",
    "            data_dict[os.path.splitext(os.path.basename(path))[0]] = load_data(path)\n",
    "        except:\n",
    "            print(f\"Error reading file {path}\")\n",
    "\n",
    "    return data_dict\n",
    "\n",
    "def load_data(path):\n",
    "    df = pd.read_excel(path, header=None, names=['t', 'p'], skiprows=6)\n",
    "    return df\n",
    "\n",
    "def drop(df, col, n):\n",
    "    largest = df.nlargest(n, col).index.to_list()\n",
    "    smallest = df.nsmallest(n, col).index.to_list()\n",
    "    indexces = largest + smallest\n",
    "    return df.drop(indexces)\n",
    "\n",
    "def get_min_max_error(df, col):\n",
    "    max = df[col].max()\n",
    "    min = df[col].min()\n",
    "    return (max - min)\n",
    "\n",
    "def puplot(x_ufloats, y_ufloats, **kwargs):\n",
    "\n",
    "    # del fig\n",
    "    \n",
    "    df_ = pd.DataFrame({\n",
    "        'x': unumpy.nominal_values(x_ufloats),\n",
    "        'y': unumpy.nominal_values(y_ufloats),\n",
    "        'x_err': unumpy.std_devs(x_ufloats),\n",
    "        'y_err': unumpy.std_devs(y_ufloats)\n",
    "        })\n",
    "    \n",
    "    fig = px.scatter(df_, x=\"x\", y=\"y\",\n",
    "                 error_x=\"x_err\", error_y=\"y_err\")\n",
    "    fig.show()\n",
    "    # return fig\n",
    "\n",
    "def rad2deg(v):\n",
    "    return v * 180 / np.pi\n",
    "\n",
    "def deg2rad(v):\n",
    "    return v * np.pi / 180"
   ]
  },
  {
   "attachments": {},
   "cell_type": "markdown",
   "metadata": {},
   "source": [
    "## 2 ploeraizers"
   ]
  },
  {
   "cell_type": "code",
   "execution_count": 64,
   "metadata": {},
   "outputs": [],
   "source": [
    "# load_state('2_polarizers')\n",
    "df = pd.read_csv('2_poleraizers.csv')\n",
    "noise = ufloat(0.23, 0.005) * 1e-3\n",
    "df = clean_errors(df)\n",
    "power = []\n",
    "for i in df['power']:\n",
    "    power.append(ufloat(i, 0.05 * i) - noise) \n",
    "power = np.array(power)\n",
    "df['power'] = power\n",
    "\n",
    "angle = []\n",
    "for i in df['angle']:\n",
    "    angle.append(ufloat(i, 1/3 * np.pi / 180))\n",
    "angle = np.array(angle)\n",
    "# df['angle'] = angle * np.pi / 180"
   ]
  },
  {
   "cell_type": "code",
   "execution_count": 72,
   "metadata": {},
   "outputs": [
    {
     "data": {
      "image/png": "[encoded data removed]",
      "text/plain": [
       "<Figure size 640x480 with 1 Axes>"
      ]
     },
     "metadata": {},
     "output_type": "display_data"
    }
   ],
   "source": [
    "\n",
    "def malus_fit(x, a, b):\n",
    "    return a * np.cos(x - b)**2\n",
    "\n",
    "a = 146.48\n",
    "b = 0.829046\n",
    "\n",
    "# a = ufloat(146.48, 1.24058)\n",
    "# b = ufloat(0.829046, 0.00776791)\n",
    "\n",
    "X = genrate_fit_data(df, 'angle', 0.1)\n",
    "\n",
    "fig, ax = plt.subplots()\n",
    "plot_data = uplot(df['angle'] * 180 / np.pi, df['power'], ax=ax, color='b', fmt='.')\n",
    "\n",
    "pyplot.xlabel(r'$\\theta$' + ' [deg]')\n",
    "pyplot.ylabel('I [$\\mu$ Amper]')\n",
    "pyplot.title('malus law 2 polarizers') \n",
    "# pyplot.xscale('log')\n",
    "plt.grid()\n",
    "plot_fit, = ax.plot(X * 180 / np.pi, malus_fit(X, a, b), 'r--')\n",
    "\n",
    "plt.savefig('images/1_malus_2_polerizers.svg', format='svg')\n",
    "save_pickle('1_malus_2_polarizers', df)\n"
   ]
  },
  {
   "attachments": {},
   "cell_type": "markdown",
   "metadata": {},
   "source": [
    "## 3 polerizers"
   ]
  },
  {
   "cell_type": "code",
   "execution_count": 73,
   "metadata": {},
   "outputs": [],
   "source": [
    "# load_state('2_polarizers')\n",
    "df = pd.read_csv('3_poleraizers.csv')\n",
    "df = clean_errors(df)\n",
    "power = []\n",
    "for i in df['power']:\n",
    "    power.append(ufloat(i, 0.05 * i)) \n",
    "power = np.array(power)\n",
    "df['power'] = power\n",
    "\n",
    "angle = []\n",
    "for i in df['angle']:\n",
    "    angle.append(ufloat(i, 1/3 * np.pi / 180))\n",
    "angle = np.array(angle)"
   ]
  },
  {
   "cell_type": "code",
   "execution_count": 78,
   "metadata": {},
   "outputs": [
    {
     "data": {
      "image/png": "[encoded data removed]",
      "text/plain": [
       "<Figure size 640x480 with 1 Axes>"
      ]
     },
     "metadata": {},
     "output_type": "display_data"
    }
   ],
   "source": [
    "a = ufloat(23.3953, 0.137064)\n",
    "b = ufloat(0.542803, 0.00647166)\n",
    "\n",
    "a = 23.3953\n",
    "b = 0.542803\n",
    "\n",
    "def malus_fit_3_polar(x, a, b):\n",
    "    return a * np.cos(2*x - b)**2\n",
    "\n",
    "X = genrate_fit_data(df, 'angle', 0.1)\n",
    "\n",
    "fig, ax = plt.subplots()\n",
    "plot_data = uplot(rad2deg(df['angle']), df['power'], ax=ax, color='b', fmt='.')\n",
    "\n",
    "pyplot.xlabel(r'$\\theta$' + ' [deg]')\n",
    "pyplot.ylabel('I [$\\mu$ Amper]')\n",
    "pyplot.title('malus law 3 polarizers') \n",
    "# pyplot.xscale('log')\n",
    "plt.grid()\n",
    "plot_fit, = ax.plot(rad2deg(X), malus_fit_3_polar(X, a, b), 'r--')\n",
    "\n",
    "\n",
    "plt.savefig('images/2_malus_3_polerizers.svg', format='svg')\n",
    "save_pickle('3_polarizers', df)\n"
   ]
  },
  {
   "attachments": {},
   "cell_type": "markdown",
   "metadata": {},
   "source": [
    "## $\\frac{\\lambda}{2}$ waveplate"
   ]
  },
  {
   "cell_type": "code",
   "execution_count": 80,
   "metadata": {},
   "outputs": [
    {
     "data": {
      "image/png": "[encoded data removed]",
      "text/plain": [
       "<Figure size 640x480 with 1 Axes>"
      ]
     },
     "metadata": {},
     "output_type": "display_data"
    }
   ],
   "source": [
    "X = genrate_fit_data(df, 'angle', 0.1)\n",
    "\n",
    "def halfwave_plate(x,a,b):\n",
    "    return a * np.sin(2*x - b)**2\n",
    "    \n",
    "fig, ax = plt.subplots()\n",
    "plot_data = uplot(df['angle'], df['power'], ax=ax, color='b', fmt='.')\n",
    "\n",
    "\n",
    "a = ufloat(0.000121804, 8.56308e-07) * 10e5\n",
    "b = ufloat(0.380604, 0.00750376)\n",
    "\n",
    "\n",
    "a = 0.000121804 * 10e5\n",
    "b = 0.380604\n",
    "\n",
    "pyplot.xlabel(r'$\\theta$' + ' [deg]')\n",
    "pyplot.ylabel('I [$\\mu$ Amper]')\n",
    "pyplot.title('halfwave plate') \n",
    "plt.grid()\n",
    "plot_fit, = ax.plot(X, halfwave_plate(X, a, b), 'r--')\n",
    "\n",
    "\n",
    "plt.savefig('images/3_halfwave_plate.svg', format='svg')\n",
    "save_pickle('half_wave', df)"
   ]
  },
  {
   "attachments": {},
   "cell_type": "markdown",
   "metadata": {},
   "source": [
    "## circle $\\frac{\\lambda}{4}$"
   ]
  },
  {
   "cell_type": "code",
   "execution_count": 90,
   "metadata": {},
   "outputs": [
    {
     "data": {
      "image/png": "[encoded data removed]",
      "text/plain": [
       "<Figure size 640x480 with 1 Axes>"
      ]
     },
     "metadata": {},
     "output_type": "display_data"
    }
   ],
   "source": [
    "from matplotlib.ticker import (AutoMinorLocator, MultipleLocator)\n",
    "\n",
    "fig, ax = plt.subplots(subplot_kw={'projection': 'polar'})\n",
    "# fig, ax = plt.subplots()\n",
    "plot_data = uplot(df['angle'].to_numpy(), df['power'].to_numpy(), ax=ax, color='b', fmt='none')\n",
    "\n",
    "\n",
    "pyplot.xlabel('angle'+' [deg]')\n",
    "# pyplot.ylabel('light power [$\\mu$ Amper]')\n",
    "pyplot.title('$\\\\frac{\\\\lambda}{4}$ wave plate') \n",
    "# pyplot.xscale('log')\n",
    "plt.grid()\n",
    "plot_fit, = ax.plot(np.linspace(0, 2*np.pi, 100), power_avg * np.ones(100), 'r--')\n",
    "\n",
    "# im_ax = real_ax.twinx()\n",
    "# ax.ticklabel_format(axis=\"y\", style=\"sci\", scilimits=(0,0))\n",
    "# ax.ticklabel_format(axis=\"x\", style=\"sci\", scilimits=(0,0))\n",
    "\n",
    "# plt.legend([plot_real, plot_im, plot_real_fit, plot_im_fit], ['real part', 'imaginary part', 'real part fit', 'imaginary part fit'])\n",
    "\n",
    "\n",
    "# ax.set_rticks([0.5, 1, 1.5, 2])  # Less radial ticks\n",
    "ax.set_rlabel_position(-22.5)  # Move radial labels away from plotted line\n",
    "\n",
    "# ax.set_xticks(range(0, 360, 5))  # Less radial ticks\n",
    "# ax.xaxis.set_major_locator(MultipleLocator(20))\n",
    "# ax.yaxis.set_major_locator(MultipleLocator(20))\n",
    "ax.grid(True)\n",
    "\n",
    "plt.savefig('images/quater_board.svg', format='svg')\n",
    "save_pickle('quater_plate_circle', df)"
   ]
  },
  {
   "cell_type": "code",
   "execution_count": 83,
   "metadata": {},
   "outputs": [],
   "source": [
    "power = []\n",
    "angle = []\n",
    "d = read_to_dict('data/circle')\n",
    "for k, df_ in d.items():\n",
    "    drop(df_, 'p', 5)\n",
    "    power.append( 10e5 * ufloat(df_['p'].mean(), get_min_max_error(df_, 'p')))\n",
    "    angle.append( np.pi / 180 * ufloat(float(k), 1))\n",
    "power = np.array(power)\n",
    "\n",
    "df = pd.DataFrame({'power': power, 'angle': angle})\n",
    "df.sort_values(by=['angle'], inplace=True)\n",
    "power_avg = clean_errors(df)['power'].mean()\n",
    "    "
   ]
  },
  {
   "attachments": {},
   "cell_type": "markdown",
   "metadata": {},
   "source": [
    "## elyptic $\\frac{\\lambda}{4}$"
   ]
  },
  {
   "cell_type": "code",
   "execution_count": 102,
   "metadata": {},
   "outputs": [],
   "source": [
    "power = []\n",
    "angle = []\n",
    "d = read_to_dict('data/elyptic')\n",
    "for k, df_ in d.items():\n",
    "    drop(df_, 'p', 5)\n",
    "    power.append( 10e5 * ufloat(df_['p'].mean(), get_min_max_error(df_, 'p')))\n",
    "    angle.append( np.pi / 180 * ufloat(float(k), 1))\n",
    "power = np.array(power)\n",
    "\n",
    "df = pd.DataFrame({'power': power, 'angle': angle})\n",
    "df.sort_values(by=['angle'], inplace=True)\n",
    "power_avg = clean_errors(df)['power'].mean()\n",
    "    "
   ]
  },
  {
   "cell_type": "code",
   "execution_count": 105,
   "metadata": {},
   "outputs": [
    {
     "data": {
      "image/png": "[encoded data removed]",
      "text/plain": [
       "<Figure size 640x480 with 1 Axes>"
      ]
     },
     "metadata": {},
     "output_type": "display_data"
    }
   ],
   "source": [
    "from matplotlib.ticker import (AutoMinorLocator, MultipleLocator)\n",
    "\n",
    "fig, ax = plt.subplots(subplot_kw={'projection': 'polar'})\n",
    "# fig, ax = plt.subplots()\n",
    "plot_data = uplot(clean_errors(df)['angle'].to_numpy(), df['power'].to_numpy(), ax=ax, color='b', fmt='.')\n",
    "\n",
    "pyplot.xlabel('angle'+' [deg]')\n",
    "pyplot.title('$\\\\frac{\\\\lambda}{4}$ wave plate (elyptic)') \n",
    "# pyplot.xscale('log')\n",
    "plt.grid()\n",
    "# plot_fit, = ax.plot(X, malus_fit(X, a, b), 'r--')\n",
    "\n",
    "# im_ax = real_ax.twinx()\n",
    "# ax.ticklabel_format(axis=\"y\", style=\"sci\", scilimits=(0,0))\n",
    "# ax.ticklabel_format(axis=\"x\", style=\"sci\", scilimits=(0,0))\n",
    "\n",
    "# plt.legend([plot_real, plot_im, plot_real_fit, plot_im_fit], ['real part', 'imaginary part', 'real part fit', 'imaginary part fit'])\n",
    "\n",
    "\n",
    "# ax.set_rticks([0.5, 1, 1.5, 2])  # Less radial ticks\n",
    "ax.set_rlabel_position(-22.5)  # Move radial labels away from plotted line\n",
    "\n",
    "# ax.set_xticks(range(0, 360, 5))  # Less radial ticks\n",
    "# ax.xaxis.set_major_locator(MultipleLocator(20))\n",
    "# ax.yaxis.set_major_locator(MultipleLocator(20))\n",
    "ax.grid(True)\n",
    "\n",
    "plt.savefig('images/quater_elyptic.svg', format='svg')\n",
    "save_pickle('quater_board_elyptic', df)"
   ]
  },
  {
   "attachments": {},
   "cell_type": "markdown",
   "metadata": {},
   "source": [
    "## brewster angle"
   ]
  },
  {
   "cell_type": "code",
   "execution_count": 46,
   "metadata": {},
   "outputs": [
    {
     "name": "stdout",
     "output_type": "stream",
     "text": [
      "Error reading file data/brewster/.DS_Store\n"
     ]
    }
   ],
   "source": [
    "power = []\n",
    "angle = []\n",
    "d = read_to_dict('data/brewster')\n",
    "for k, df_ in d.items():\n",
    "    df_ = drop(df_, 'p', 3)\n",
    "    power.append( 10e8 * ufloat(df_['p'].mean(), get_min_max_error(df_, 'p')))\n",
    "    angle.append(ufloat(float(k), 1) / 2 * np.pi / 180)\n",
    "# power = np.array(power)\n",
    "\n",
    "df = pd.DataFrame({'angle': angle, 'power': power})\n",
    "df.sort_values(by=['angle'], inplace=True)\n",
    "    "
   ]
  },
  {
   "cell_type": "code",
   "execution_count": 63,
   "metadata": {},
   "outputs": [
    {
     "data": {
      "image/png": "[encoded data removed]",
      "text/plain": [
       "<Figure size 640x480 with 1 Axes>"
      ]
     },
     "metadata": {},
     "output_type": "display_data"
    }
   ],
   "source": [
    "from numpy import tan, sin, cos, arcsin, arccos\n",
    "\n",
    "a = ufloat(0.869345, 0.0058891)\n",
    "c = ufloat(-78.201, 6.44443)\n",
    "n = ufloat(1.24065, 0.00972882)\n",
    "\n",
    "\n",
    "a = 0.869345\n",
    "c = -78.201\n",
    "n = 1.24065\n",
    "\n",
    "def brewster_fit(x, a, c, n):\n",
    "    return (tan(x-a + arcsin(sin(x-a)/n)))**2/(tan(x-a - arcsin(sin(x-a)/n)))**2+c\n",
    "\n",
    "X = genrate_fit_data(df, 'angle', 0.1)\n",
    "\n",
    "fig, ax = plt.subplots()\n",
    "plot_data = uplot(df['angle'] * 180 / np.pi , df['power'], ax=ax, color='b', fmt='.')\n",
    "\n",
    "pyplot.xlabel(r'$\\theta$'+' [deg]')\n",
    "pyplot.ylabel('I [$\\mu$ Amper]')\n",
    "pyplot.title('brewster angle') \n",
    "plt.grid()\n",
    "\n",
    "plot_fit, = ax.plot(X * 180 / np.pi, brewster_fit(X, a, c,n), 'r--')\n",
    "\n",
    "plt.savefig('images/brewster.svg', format='svg')"
   ]
  },
  {
   "cell_type": "code",
   "execution_count": null,
   "metadata": {},
   "outputs": [],
   "source": [
    "# fig = puplot(df['angle'], df['power'])\n",
    "# fig.add_trace(\n",
    "#     go.Scatter(X, y=brewster_fit(X, a, c, n), name=\"fitting\"),\n",
    "#     secondary_y=False,\n",
    "# )\n",
    "\n",
    "# fig = puplot(df['angle'], df['power'])\n",
    "\n",
    "\n",
    "# fig.add_trace(\n",
    "#     go.Scatter(\n",
    "#         x=X,\n",
    "#         y=brewster_fit(X, a, c, n),\n",
    "# ))\n",
    "\n",
    "\n",
    "# (tan(x-a + asin(sin(x-a)/n)))^2/(tan(x-a - asin(sin(x-a)/n)))^2+c"
   ]
  },
  {
   "attachments": {},
   "cell_type": "markdown",
   "metadata": {},
   "source": [
    "## chirality"
   ]
  },
  {
   "cell_type": "code",
   "execution_count": 66,
   "metadata": {},
   "outputs": [],
   "source": [
    "temp = ufloat(24,1) # pm 1# ch\n",
    "\n",
    "power = []\n",
    "length = []\n",
    "pard = read_to_dict('data/par')\n",
    "perd = read_to_dict('data/per')\n",
    "\n",
    "for k, df_ in pard.items():\n",
    "    power.append( 10e5 * ufloat(df_['p'].mean(), get_min_max_error(df_, 'p')))\n",
    "    length.append(ufloat(float(k), 0.5))\n",
    "\n",
    "par = pd.DataFrame({'l': length, 'p': power})\n",
    "par.sort_values(by=['l'], inplace=True) \n",
    "\n",
    "power = []\n",
    "length = []\n",
    "\n",
    "for k, df_ in perd.items():\n",
    "    power.append( 10e5 * ufloat(df_['p'].mean(), get_min_max_error(df_, 'p')))\n",
    "    length.append(ufloat(float(k), 0.5))\n",
    "\n",
    "per = pd.DataFrame({'l': length, 'p': power})\n",
    "per.sort_values(by=['l'], inplace=True) \n",
    "\n",
    "per = clean_errors(per)\n",
    "par = clean_errors(par)\n",
    "\n",
    "tot = pd.DataFrame(\n",
    "    {'l': np.array(length) / 10, 'theta': 180/np.pi * np.arctan(( per['p'] / par['p'] )**0.5)}\n",
    "    )\n",
    "# tot.sort_values(by=['l'], inplace=True) "
   ]
  },
  {
   "cell_type": "code",
   "execution_count": 29,
   "metadata": {},
   "outputs": [],
   "source": [
    "from uncertainties.umath import atan "
   ]
  },
  {
   "cell_type": "code",
   "execution_count": 6,
   "metadata": {},
   "outputs": [
    {
     "data": {
      "application/vnd.plotly.v1+json": {
       "config": {
        "plotlyServerURL": "https://plot.ly"
       },
       "data": [
        {
         "error_x": {
          "array": [
           0.5,
           0.5,
           0.5,
           0.5,
           0.5,
           0.5,
           0.5,
           0.5,
           0.5,
           0.5,
           0.5,
           0.5,
           0.5,
           0.5,
           0.5,
           0.5,
           0.5,
           0.5,
           0.5,
           0.5,
           0.5,
           0.5
          ]
         },
         "error_y": {
          "array": [
           2.722999999999994,
           2.856499999999982,
           8.346999999999992,
           3.6217000000000064,
           2.567999999999993,
           4.200800000000009,
           1.9590999999999792,
           1.3287999999999864,
           1.9685000000000135,
           1.2302000000000006,
           2.456980000000006,
           1.3963000000000056,
           1.2915999999999996,
           3.4535000000000036,
           1.4728000000000039,
           2.963200000000006,
           2.5143999999999975,
           3.675799999999996,
           73.42863999999999,
           1.727399999999993,
           6.486399999999993,
           6.562699999999991
          ]
         },
         "hovertemplate": "x=%{x}<br>y=%{y}<extra></extra>",
         "legendgroup": "",
         "marker": {
          "color": "#636efa",
          "symbol": "circle"
         },
         "mode": "markers",
         "name": "",
         "orientation": "v",
         "showlegend": false,
         "type": "scatter",
         "x": [
          1,
          2,
          3,
          4,
          5,
          6,
          7,
          8,
          9,
          10,
          11,
          12,
          14.5,
          15.5,
          16.5,
          17.5,
          18.5,
          19.5,
          20.5,
          21.5,
          22.5,
          23.5
         ],
         "xaxis": "x",
         "y": [
          135.1649002493766,
          132.13472069825434,
          136.64831122194514,
          139.98775137157105,
          118.42681197007482,
          113.56662019950124,
          123.67223840399001,
          126.0209029925187,
          123.00875536159603,
          127.63303491271822,
          99.51486139650872,
          122.08242618453868,
          111.42060947630922,
          111.57182917705734,
          114.6139132169576,
          107.57565436408979,
          119.7235668329177,
          115.87963416458851,
          75.14586668329177,
          110.62858403990023,
          113.2779728179551,
          107.10502029950082
         ],
         "yaxis": "y"
        }
       ],
       "layout": {
        "legend": {
         "tracegroupgap": 0
        },
        "margin": {
         "t": 60
        },
        "template": {
         "data": {
          "bar": [
           {
            "error_x": {
             "color": "#2a3f5f"
            },
            "error_y": {
             "color": "#2a3f5f"
            },
            "marker": {
             "line": {
              "color": "#E5ECF6",
              "width": 0.5
             },
             "pattern": {
              "fillmode": "overlay",
              "size": 10,
              "solidity": 0.2
             }
            },
            "type": "bar"
           }
          ],
          "barpolar": [
           {
            "marker": {
             "line": {
              "color": "#E5ECF6",
              "width": 0.5
             },
             "pattern": {
              "fillmode": "overlay",
              "size": 10,
              "solidity": 0.2
             }
            },
            "type": "barpolar"
           }
          ],
          "carpet": [
           {
            "aaxis": {
             "endlinecolor": "#2a3f5f",
             "gridcolor": "white",
             "linecolor": "white",
             "minorgridcolor": "white",
             "startlinecolor": "#2a3f5f"
            },
            "baxis": {
             "endlinecolor": "#2a3f5f",
             "gridcolor": "white",
             "linecolor": "white",
             "minorgridcolor": "white",
             "startlinecolor": "#2a3f5f"
            },
            "type": "carpet"
           }
          ],
          "choropleth": [
           {
            "colorbar": {
             "outlinewidth": 0,
             "ticks": ""
            },
            "type": "choropleth"
           }
          ],
          "contour": [
           {
            "colorbar": {
             "outlinewidth": 0,
             "ticks": ""
            },
            "colorscale": [
             [
              0,
              "#0d0887"
             ],
             [
              0.1111111111111111,
              "#46039f"
             ],
             [
              0.2222222222222222,
              "#7201a8"
             ],
             [
              0.3333333333333333,
              "#9c179e"
             ],
             [
              0.4444444444444444,
              "#bd3786"
             ],
             [
              0.5555555555555556,
              "#d8576b"
             ],
             [
              0.6666666666666666,
              "#ed7953"
             ],
             [
              0.7777777777777778,
              "#fb9f3a"
             ],
             [
              0.8888888888888888,
              "#fdca26"
             ],
             [
              1,
              "#f0f921"
             ]
            ],
            "type": "contour"
           }
          ],
          "contourcarpet": [
           {
            "colorbar": {
             "outlinewidth": 0,
             "ticks": ""
            },
            "type": "contourcarpet"
           }
          ],
          "heatmap": [
           {
            "colorbar": {
             "outlinewidth": 0,
             "ticks": ""
            },
            "colorscale": [
             [
              0,
              "#0d0887"
             ],
             [
              0.1111111111111111,
              "#46039f"
             ],
             [
              0.2222222222222222,
              "#7201a8"
             ],
             [
              0.3333333333333333,
              "#9c179e"
             ],
             [
              0.4444444444444444,
              "#bd3786"
             ],
             [
              0.5555555555555556,
              "#d8576b"
             ],
             [
              0.6666666666666666,
              "#ed7953"
             ],
             [
              0.7777777777777778,
              "#fb9f3a"
             ],
             [
              0.8888888888888888,
              "#fdca26"
             ],
             [
              1,
              "#f0f921"
             ]
            ],
            "type": "heatmap"
           }
          ],
          "heatmapgl": [
           {
            "colorbar": {
             "outlinewidth": 0,
             "ticks": ""
            },
            "colorscale": [
             [
              0,
              "#0d0887"
             ],
             [
              0.1111111111111111,
              "#46039f"
             ],
             [
              0.2222222222222222,
              "#7201a8"
             ],
             [
              0.3333333333333333,
              "#9c179e"
             ],
             [
              0.4444444444444444,
              "#bd3786"
             ],
             [
              0.5555555555555556,
              "#d8576b"
             ],
             [
              0.6666666666666666,
              "#ed7953"
             ],
             [
              0.7777777777777778,
              "#fb9f3a"
             ],
             [
              0.8888888888888888,
              "#fdca26"
             ],
             [
              1,
              "#f0f921"
             ]
            ],
            "type": "heatmapgl"
           }
          ],
          "histogram": [
           {
            "marker": {
             "pattern": {
              "fillmode": "overlay",
              "size": 10,
              "solidity": 0.2
             }
            },
            "type": "histogram"
           }
          ],
          "histogram2d": [
           {
            "colorbar": {
             "outlinewidth": 0,
             "ticks": ""
            },
            "colorscale": [
             [
              0,
              "#0d0887"
             ],
             [
              0.1111111111111111,
              "#46039f"
             ],
             [
              0.2222222222222222,
              "#7201a8"
             ],
             [
              0.3333333333333333,
              "#9c179e"
             ],
             [
              0.4444444444444444,
              "#bd3786"
             ],
             [
              0.5555555555555556,
              "#d8576b"
             ],
             [
              0.6666666666666666,
              "#ed7953"
             ],
             [
              0.7777777777777778,
              "#fb9f3a"
             ],
             [
              0.8888888888888888,
              "#fdca26"
             ],
             [
              1,
              "#f0f921"
             ]
            ],
            "type": "histogram2d"
           }
          ],
          "histogram2dcontour": [
           {
            "colorbar": {
             "outlinewidth": 0,
             "ticks": ""
            },
            "colorscale": [
             [
              0,
              "#0d0887"
             ],
             [
              0.1111111111111111,
              "#46039f"
             ],
             [
              0.2222222222222222,
              "#7201a8"
             ],
             [
              0.3333333333333333,
              "#9c179e"
             ],
             [
              0.4444444444444444,
              "#bd3786"
             ],
             [
              0.5555555555555556,
              "#d8576b"
             ],
             [
              0.6666666666666666,
              "#ed7953"
             ],
             [
              0.7777777777777778,
              "#fb9f3a"
             ],
             [
              0.8888888888888888,
              "#fdca26"
             ],
             [
              1,
              "#f0f921"
             ]
            ],
            "type": "histogram2dcontour"
           }
          ],
          "mesh3d": [
           {
            "colorbar": {
             "outlinewidth": 0,
             "ticks": ""
            },
            "type": "mesh3d"
           }
          ],
          "parcoords": [
           {
            "line": {
             "colorbar": {
              "outlinewidth": 0,
              "ticks": ""
             }
            },
            "type": "parcoords"
           }
          ],
          "pie": [
           {
            "automargin": true,
            "type": "pie"
           }
          ],
          "scatter": [
           {
            "fillpattern": {
             "fillmode": "overlay",
             "size": 10,
             "solidity": 0.2
            },
            "type": "scatter"
           }
          ],
          "scatter3d": [
           {
            "line": {
             "colorbar": {
              "outlinewidth": 0,
              "ticks": ""
             }
            },
            "marker": {
             "colorbar": {
              "outlinewidth": 0,
              "ticks": ""
             }
            },
            "type": "scatter3d"
           }
          ],
          "scattercarpet": [
           {
            "marker": {
             "colorbar": {
              "outlinewidth": 0,
              "ticks": ""
             }
            },
            "type": "scattercarpet"
           }
          ],
          "scattergeo": [
           {
            "marker": {
             "colorbar": {
              "outlinewidth": 0,
              "ticks": ""
             }
            },
            "type": "scattergeo"
           }
          ],
          "scattergl": [
           {
            "marker": {
             "colorbar": {
              "outlinewidth": 0,
              "ticks": ""
             }
            },
            "type": "scattergl"
           }
          ],
          "scattermapbox": [
           {
            "marker": {
             "colorbar": {
              "outlinewidth": 0,
              "ticks": ""
             }
            },
            "type": "scattermapbox"
           }
          ],
          "scatterpolar": [
           {
            "marker": {
             "colorbar": {
              "outlinewidth": 0,
              "ticks": ""
             }
            },
            "type": "scatterpolar"
           }
          ],
          "scatterpolargl": [
           {
            "marker": {
             "colorbar": {
              "outlinewidth": 0,
              "ticks": ""
             }
            },
            "type": "scatterpolargl"
           }
          ],
          "scatterternary": [
           {
            "marker": {
             "colorbar": {
              "outlinewidth": 0,
              "ticks": ""
             }
            },
            "type": "scatterternary"
           }
          ],
          "surface": [
           {
            "colorbar": {
             "outlinewidth": 0,
             "ticks": ""
            },
            "colorscale": [
             [
              0,
              "#0d0887"
             ],
             [
              0.1111111111111111,
              "#46039f"
             ],
             [
              0.2222222222222222,
              "#7201a8"
             ],
             [
              0.3333333333333333,
              "#9c179e"
             ],
             [
              0.4444444444444444,
              "#bd3786"
             ],
             [
              0.5555555555555556,
              "#d8576b"
             ],
             [
              0.6666666666666666,
              "#ed7953"
             ],
             [
              0.7777777777777778,
              "#fb9f3a"
             ],
             [
              0.8888888888888888,
              "#fdca26"
             ],
             [
              1,
              "#f0f921"
             ]
            ],
            "type": "surface"
           }
          ],
          "table": [
           {
            "cells": {
             "fill": {
              "color": "#EBF0F8"
             },
             "line": {
              "color": "white"
             }
            },
            "header": {
             "fill": {
              "color": "#C8D4E3"
             },
             "line": {
              "color": "white"
             }
            },
            "type": "table"
           }
          ]
         },
         "layout": {
          "annotationdefaults": {
           "arrowcolor": "#2a3f5f",
           "arrowhead": 0,
           "arrowwidth": 1
          },
          "autotypenumbers": "strict",
          "coloraxis": {
           "colorbar": {
            "outlinewidth": 0,
            "ticks": ""
           }
          },
          "colorscale": {
           "diverging": [
            [
             0,
             "#8e0152"
            ],
            [
             0.1,
             "#c51b7d"
            ],
            [
             0.2,
             "#de77ae"
            ],
            [
             0.3,
             "#f1b6da"
            ],
            [
             0.4,
             "#fde0ef"
            ],
            [
             0.5,
             "#f7f7f7"
            ],
            [
             0.6,
             "#e6f5d0"
            ],
            [
             0.7,
             "#b8e186"
            ],
            [
             0.8,
             "#7fbc41"
            ],
            [
             0.9,
             "#4d9221"
            ],
            [
             1,
             "#276419"
            ]
           ],
           "sequential": [
            [
             0,
             "#0d0887"
            ],
            [
             0.1111111111111111,
             "#46039f"
            ],
            [
             0.2222222222222222,
             "#7201a8"
            ],
            [
             0.3333333333333333,
             "#9c179e"
            ],
            [
             0.4444444444444444,
             "#bd3786"
            ],
            [
             0.5555555555555556,
             "#d8576b"
            ],
            [
             0.6666666666666666,
             "#ed7953"
            ],
            [
             0.7777777777777778,
             "#fb9f3a"
            ],
            [
             0.8888888888888888,
             "#fdca26"
            ],
            [
             1,
             "#f0f921"
            ]
           ],
           "sequentialminus": [
            [
             0,
             "#0d0887"
            ],
            [
             0.1111111111111111,
             "#46039f"
            ],
            [
             0.2222222222222222,
             "#7201a8"
            ],
            [
             0.3333333333333333,
             "#9c179e"
            ],
            [
             0.4444444444444444,
             "#bd3786"
            ],
            [
             0.5555555555555556,
             "#d8576b"
            ],
            [
             0.6666666666666666,
             "#ed7953"
            ],
            [
             0.7777777777777778,
             "#fb9f3a"
            ],
            [
             0.8888888888888888,
             "#fdca26"
            ],
            [
             1,
             "#f0f921"
            ]
           ]
          },
          "colorway": [
           "#636efa",
           "#EF553B",
           "#00cc96",
           "#ab63fa",
           "#FFA15A",
           "#19d3f3",
           "#FF6692",
           "#B6E880",
           "#FF97FF",
           "#FECB52"
          ],
          "font": {
           "color": "#2a3f5f"
          },
          "geo": {
           "bgcolor": "white",
           "lakecolor": "white",
           "landcolor": "#E5ECF6",
           "showlakes": true,
           "showland": true,
           "subunitcolor": "white"
          },
          "hoverlabel": {
           "align": "left"
          },
          "hovermode": "closest",
          "mapbox": {
           "style": "light"
          },
          "paper_bgcolor": "white",
          "plot_bgcolor": "#E5ECF6",
          "polar": {
           "angularaxis": {
            "gridcolor": "white",
            "linecolor": "white",
            "ticks": ""
           },
           "bgcolor": "#E5ECF6",
           "radialaxis": {
            "gridcolor": "white",
            "linecolor": "white",
            "ticks": ""
           }
          },
          "scene": {
           "xaxis": {
            "backgroundcolor": "#E5ECF6",
            "gridcolor": "white",
            "gridwidth": 2,
            "linecolor": "white",
            "showbackground": true,
            "ticks": "",
            "zerolinecolor": "white"
           },
           "yaxis": {
            "backgroundcolor": "#E5ECF6",
            "gridcolor": "white",
            "gridwidth": 2,
            "linecolor": "white",
            "showbackground": true,
            "ticks": "",
            "zerolinecolor": "white"
           },
           "zaxis": {
            "backgroundcolor": "#E5ECF6",
            "gridcolor": "white",
            "gridwidth": 2,
            "linecolor": "white",
            "showbackground": true,
            "ticks": "",
            "zerolinecolor": "white"
           }
          },
          "shapedefaults": {
           "line": {
            "color": "#2a3f5f"
           }
          },
          "ternary": {
           "aaxis": {
            "gridcolor": "white",
            "linecolor": "white",
            "ticks": ""
           },
           "baxis": {
            "gridcolor": "white",
            "linecolor": "white",
            "ticks": ""
           },
           "bgcolor": "#E5ECF6",
           "caxis": {
            "gridcolor": "white",
            "linecolor": "white",
            "ticks": ""
           }
          },
          "title": {
           "x": 0.05
          },
          "xaxis": {
           "automargin": true,
           "gridcolor": "white",
           "linecolor": "white",
           "ticks": "",
           "title": {
            "standoff": 15
           },
           "zerolinecolor": "white",
           "zerolinewidth": 2
          },
          "yaxis": {
           "automargin": true,
           "gridcolor": "white",
           "linecolor": "white",
           "ticks": "",
           "title": {
            "standoff": 15
           },
           "zerolinecolor": "white",
           "zerolinewidth": 2
          }
         }
        },
        "xaxis": {
         "anchor": "y",
         "domain": [
          0,
          1
         ],
         "title": {
          "text": "x"
         }
        },
        "yaxis": {
         "anchor": "x",
         "domain": [
          0,
          1
         ],
         "title": {
          "text": "y"
         }
        }
       }
      }
     },
     "metadata": {},
     "output_type": "display_data"
    }
   ],
   "source": [
    "puplot(par['l'], par['p'])"
   ]
  },
  {
   "cell_type": "code",
   "execution_count": 7,
   "metadata": {},
   "outputs": [
    {
     "data": {
      "application/vnd.plotly.v1+json": {
       "config": {
        "plotlyServerURL": "https://plot.ly"
       },
       "data": [
        {
         "error_x": {
          "array": [
           0.5,
           0.5,
           0.5,
           0.5,
           0.5,
           0.5,
           0.5,
           0.5,
           0.5,
           0.5,
           0.5,
           0.5,
           0.5,
           0.5,
           0.5,
           0.5,
           0.5,
           0.5,
           0.5,
           0.5,
           0.5,
           0.5
          ]
         },
         "error_y": {
          "array": [
           0.0006265589999999996,
           0.004588259999999998,
           0.0036754000000000066,
           0.0399072,
           0.07541909999999988,
           0.03582300000000004,
           0.01757700000000005,
           0.013221000000000089,
           0.013145999999999925,
           0.035731999999999965,
           0.07267499999999968,
           0.08049900000000008,
           0.0919370000000003,
           0.05692500000000031,
           0.38217300000000065,
           0.16315700000000027,
           0.2313469999999992,
           0.47850300000000046,
           1.2865229999999999,
           0.14132600000000012,
           0.229712,
           0.11559400000000047
          ]
         },
         "hovertemplate": "x=%{x}<br>y=%{y}<extra></extra>",
         "legendgroup": "",
         "marker": {
          "color": "#636efa",
          "symbol": "circle"
         },
         "mode": "markers",
         "name": "",
         "orientation": "v",
         "showlegend": false,
         "type": "scatter",
         "x": [
          1,
          2,
          3,
          4,
          5,
          6,
          7,
          8,
          9,
          10,
          11,
          12,
          14.5,
          15.5,
          16.5,
          17.5,
          18.5,
          19.5,
          20.5,
          21.5,
          22.5,
          23.5
         ],
         "xaxis": "x",
         "y": [
          0.009302846321695759,
          0.04255999880299252,
          0.12683544488778056,
          0.5983075421446384,
          0.9238253867830425,
          0.8815718443890272,
          1.1672534413965088,
          1.7679750947630923,
          2.2446159127182046,
          2.386025032418953,
          2.057560201995012,
          3.207030770573567,
          4.813288047381546,
          5.877002725685786,
          6.716623356608478,
          6.984588877805487,
          8.848064882793016,
          9.932897807980051,
          5.742461591022445,
          3.013873960099751,
          3.7144840473815464,
          4.674287589242053
         ],
         "yaxis": "y"
        }
       ],
       "layout": {
        "legend": {
         "tracegroupgap": 0
        },
        "margin": {
         "t": 60
        },
        "template": {
         "data": {
          "bar": [
           {
            "error_x": {
             "color": "#2a3f5f"
            },
            "error_y": {
             "color": "#2a3f5f"
            },
            "marker": {
             "line": {
              "color": "#E5ECF6",
              "width": 0.5
             },
             "pattern": {
              "fillmode": "overlay",
              "size": 10,
              "solidity": 0.2
             }
            },
            "type": "bar"
           }
          ],
          "barpolar": [
           {
            "marker": {
             "line": {
              "color": "#E5ECF6",
              "width": 0.5
             },
             "pattern": {
              "fillmode": "overlay",
              "size": 10,
              "solidity": 0.2
             }
            },
            "type": "barpolar"
           }
          ],
          "carpet": [
           {
            "aaxis": {
             "endlinecolor": "#2a3f5f",
             "gridcolor": "white",
             "linecolor": "white",
             "minorgridcolor": "white",
             "startlinecolor": "#2a3f5f"
            },
            "baxis": {
             "endlinecolor": "#2a3f5f",
             "gridcolor": "white",
             "linecolor": "white",
             "minorgridcolor": "white",
             "startlinecolor": "#2a3f5f"
            },
            "type": "carpet"
           }
          ],
          "choropleth": [
           {
            "colorbar": {
             "outlinewidth": 0,
             "ticks": ""
            },
            "type": "choropleth"
           }
          ],
          "contour": [
           {
            "colorbar": {
             "outlinewidth": 0,
             "ticks": ""
            },
            "colorscale": [
             [
              0,
              "#0d0887"
             ],
             [
              0.1111111111111111,
              "#46039f"
             ],
             [
              0.2222222222222222,
              "#7201a8"
             ],
             [
              0.3333333333333333,
              "#9c179e"
             ],
             [
              0.4444444444444444,
              "#bd3786"
             ],
             [
              0.5555555555555556,
              "#d8576b"
             ],
             [
              0.6666666666666666,
              "#ed7953"
             ],
             [
              0.7777777777777778,
              "#fb9f3a"
             ],
             [
              0.8888888888888888,
              "#fdca26"
             ],
             [
              1,
              "#f0f921"
             ]
            ],
            "type": "contour"
           }
          ],
          "contourcarpet": [
           {
            "colorbar": {
             "outlinewidth": 0,
             "ticks": ""
            },
            "type": "contourcarpet"
           }
          ],
          "heatmap": [
           {
            "colorbar": {
             "outlinewidth": 0,
             "ticks": ""
            },
            "colorscale": [
             [
              0,
              "#0d0887"
             ],
             [
              0.1111111111111111,
              "#46039f"
             ],
             [
              0.2222222222222222,
              "#7201a8"
             ],
             [
              0.3333333333333333,
              "#9c179e"
             ],
             [
              0.4444444444444444,
              "#bd3786"
             ],
             [
              0.5555555555555556,
              "#d8576b"
             ],
             [
              0.6666666666666666,
              "#ed7953"
             ],
             [
              0.7777777777777778,
              "#fb9f3a"
             ],
             [
              0.8888888888888888,
              "#fdca26"
             ],
             [
              1,
              "#f0f921"
             ]
            ],
            "type": "heatmap"
           }
          ],
          "heatmapgl": [
           {
            "colorbar": {
             "outlinewidth": 0,
             "ticks": ""
            },
            "colorscale": [
             [
              0,
              "#0d0887"
             ],
             [
              0.1111111111111111,
              "#46039f"
             ],
             [
              0.2222222222222222,
              "#7201a8"
             ],
             [
              0.3333333333333333,
              "#9c179e"
             ],
             [
              0.4444444444444444,
              "#bd3786"
             ],
             [
              0.5555555555555556,
              "#d8576b"
             ],
             [
              0.6666666666666666,
              "#ed7953"
             ],
             [
              0.7777777777777778,
              "#fb9f3a"
             ],
             [
              0.8888888888888888,
              "#fdca26"
             ],
             [
              1,
              "#f0f921"
             ]
            ],
            "type": "heatmapgl"
           }
          ],
          "histogram": [
           {
            "marker": {
             "pattern": {
              "fillmode": "overlay",
              "size": 10,
              "solidity": 0.2
             }
            },
            "type": "histogram"
           }
          ],
          "histogram2d": [
           {
            "colorbar": {
             "outlinewidth": 0,
             "ticks": ""
            },
            "colorscale": [
             [
              0,
              "#0d0887"
             ],
             [
              0.1111111111111111,
              "#46039f"
             ],
             [
              0.2222222222222222,
              "#7201a8"
             ],
             [
              0.3333333333333333,
              "#9c179e"
             ],
             [
              0.4444444444444444,
              "#bd3786"
             ],
             [
              0.5555555555555556,
              "#d8576b"
             ],
             [
              0.6666666666666666,
              "#ed7953"
             ],
             [
              0.7777777777777778,
              "#fb9f3a"
             ],
             [
              0.8888888888888888,
              "#fdca26"
             ],
             [
              1,
              "#f0f921"
             ]
            ],
            "type": "histogram2d"
           }
          ],
          "histogram2dcontour": [
           {
            "colorbar": {
             "outlinewidth": 0,
             "ticks": ""
            },
            "colorscale": [
             [
              0,
              "#0d0887"
             ],
             [
              0.1111111111111111,
              "#46039f"
             ],
             [
              0.2222222222222222,
              "#7201a8"
             ],
             [
              0.3333333333333333,
              "#9c179e"
             ],
             [
              0.4444444444444444,
              "#bd3786"
             ],
             [
              0.5555555555555556,
              "#d8576b"
             ],
             [
              0.6666666666666666,
              "#ed7953"
             ],
             [
              0.7777777777777778,
              "#fb9f3a"
             ],
             [
              0.8888888888888888,
              "#fdca26"
             ],
             [
              1,
              "#f0f921"
             ]
            ],
            "type": "histogram2dcontour"
           }
          ],
          "mesh3d": [
           {
            "colorbar": {
             "outlinewidth": 0,
             "ticks": ""
            },
            "type": "mesh3d"
           }
          ],
          "parcoords": [
           {
            "line": {
             "colorbar": {
              "outlinewidth": 0,
              "ticks": ""
             }
            },
            "type": "parcoords"
           }
          ],
          "pie": [
           {
            "automargin": true,
            "type": "pie"
           }
          ],
          "scatter": [
           {
            "fillpattern": {
             "fillmode": "overlay",
             "size": 10,
             "solidity": 0.2
            },
            "type": "scatter"
           }
          ],
          "scatter3d": [
           {
            "line": {
             "colorbar": {
              "outlinewidth": 0,
              "ticks": ""
             }
            },
            "marker": {
             "colorbar": {
              "outlinewidth": 0,
              "ticks": ""
             }
            },
            "type": "scatter3d"
           }
          ],
          "scattercarpet": [
           {
            "marker": {
             "colorbar": {
              "outlinewidth": 0,
              "ticks": ""
             }
            },
            "type": "scattercarpet"
           }
          ],
          "scattergeo": [
           {
            "marker": {
             "colorbar": {
              "outlinewidth": 0,
              "ticks": ""
             }
            },
            "type": "scattergeo"
           }
          ],
          "scattergl": [
           {
            "marker": {
             "colorbar": {
              "outlinewidth": 0,
              "ticks": ""
             }
            },
            "type": "scattergl"
           }
          ],
          "scattermapbox": [
           {
            "marker": {
             "colorbar": {
              "outlinewidth": 0,
              "ticks": ""
             }
            },
            "type": "scattermapbox"
           }
          ],
          "scatterpolar": [
           {
            "marker": {
             "colorbar": {
              "outlinewidth": 0,
              "ticks": ""
             }
            },
            "type": "scatterpolar"
           }
          ],
          "scatterpolargl": [
           {
            "marker": {
             "colorbar": {
              "outlinewidth": 0,
              "ticks": ""
             }
            },
            "type": "scatterpolargl"
           }
          ],
          "scatterternary": [
           {
            "marker": {
             "colorbar": {
              "outlinewidth": 0,
              "ticks": ""
             }
            },
            "type": "scatterternary"
           }
          ],
          "surface": [
           {
            "colorbar": {
             "outlinewidth": 0,
             "ticks": ""
            },
            "colorscale": [
             [
              0,
              "#0d0887"
             ],
             [
              0.1111111111111111,
              "#46039f"
             ],
             [
              0.2222222222222222,
              "#7201a8"
             ],
             [
              0.3333333333333333,
              "#9c179e"
             ],
             [
              0.4444444444444444,
              "#bd3786"
             ],
             [
              0.5555555555555556,
              "#d8576b"
             ],
             [
              0.6666666666666666,
              "#ed7953"
             ],
             [
              0.7777777777777778,
              "#fb9f3a"
             ],
             [
              0.8888888888888888,
              "#fdca26"
             ],
             [
              1,
              "#f0f921"
             ]
            ],
            "type": "surface"
           }
          ],
          "table": [
           {
            "cells": {
             "fill": {
              "color": "#EBF0F8"
             },
             "line": {
              "color": "white"
             }
            },
            "header": {
             "fill": {
              "color": "#C8D4E3"
             },
             "line": {
              "color": "white"
             }
            },
            "type": "table"
           }
          ]
         },
         "layout": {
          "annotationdefaults": {
           "arrowcolor": "#2a3f5f",
           "arrowhead": 0,
           "arrowwidth": 1
          },
          "autotypenumbers": "strict",
          "coloraxis": {
           "colorbar": {
            "outlinewidth": 0,
            "ticks": ""
           }
          },
          "colorscale": {
           "diverging": [
            [
             0,
             "#8e0152"
            ],
            [
             0.1,
             "#c51b7d"
            ],
            [
             0.2,
             "#de77ae"
            ],
            [
             0.3,
             "#f1b6da"
            ],
            [
             0.4,
             "#fde0ef"
            ],
            [
             0.5,
             "#f7f7f7"
            ],
            [
             0.6,
             "#e6f5d0"
            ],
            [
             0.7,
             "#b8e186"
            ],
            [
             0.8,
             "#7fbc41"
            ],
            [
             0.9,
             "#4d9221"
            ],
            [
             1,
             "#276419"
            ]
           ],
           "sequential": [
            [
             0,
             "#0d0887"
            ],
            [
             0.1111111111111111,
             "#46039f"
            ],
            [
             0.2222222222222222,
             "#7201a8"
            ],
            [
             0.3333333333333333,
             "#9c179e"
            ],
            [
             0.4444444444444444,
             "#bd3786"
            ],
            [
             0.5555555555555556,
             "#d8576b"
            ],
            [
             0.6666666666666666,
             "#ed7953"
            ],
            [
             0.7777777777777778,
             "#fb9f3a"
            ],
            [
             0.8888888888888888,
             "#fdca26"
            ],
            [
             1,
             "#f0f921"
            ]
           ],
           "sequentialminus": [
            [
             0,
             "#0d0887"
            ],
            [
             0.1111111111111111,
             "#46039f"
            ],
            [
             0.2222222222222222,
             "#7201a8"
            ],
            [
             0.3333333333333333,
             "#9c179e"
            ],
            [
             0.4444444444444444,
             "#bd3786"
            ],
            [
             0.5555555555555556,
             "#d8576b"
            ],
            [
             0.6666666666666666,
             "#ed7953"
            ],
            [
             0.7777777777777778,
             "#fb9f3a"
            ],
            [
             0.8888888888888888,
             "#fdca26"
            ],
            [
             1,
             "#f0f921"
            ]
           ]
          },
          "colorway": [
           "#636efa",
           "#EF553B",
           "#00cc96",
           "#ab63fa",
           "#FFA15A",
           "#19d3f3",
           "#FF6692",
           "#B6E880",
           "#FF97FF",
           "#FECB52"
          ],
          "font": {
           "color": "#2a3f5f"
          },
          "geo": {
           "bgcolor": "white",
           "lakecolor": "white",
           "landcolor": "#E5ECF6",
           "showlakes": true,
           "showland": true,
           "subunitcolor": "white"
          },
          "hoverlabel": {
           "align": "left"
          },
          "hovermode": "closest",
          "mapbox": {
           "style": "light"
          },
          "paper_bgcolor": "white",
          "plot_bgcolor": "#E5ECF6",
          "polar": {
           "angularaxis": {
            "gridcolor": "white",
            "linecolor": "white",
            "ticks": ""
           },
           "bgcolor": "#E5ECF6",
           "radialaxis": {
            "gridcolor": "white",
            "linecolor": "white",
            "ticks": ""
           }
          },
          "scene": {
           "xaxis": {
            "backgroundcolor": "#E5ECF6",
            "gridcolor": "white",
            "gridwidth": 2,
            "linecolor": "white",
            "showbackground": true,
            "ticks": "",
            "zerolinecolor": "white"
           },
           "yaxis": {
            "backgroundcolor": "#E5ECF6",
            "gridcolor": "white",
            "gridwidth": 2,
            "linecolor": "white",
            "showbackground": true,
            "ticks": "",
            "zerolinecolor": "white"
           },
           "zaxis": {
            "backgroundcolor": "#E5ECF6",
            "gridcolor": "white",
            "gridwidth": 2,
            "linecolor": "white",
            "showbackground": true,
            "ticks": "",
            "zerolinecolor": "white"
           }
          },
          "shapedefaults": {
           "line": {
            "color": "#2a3f5f"
           }
          },
          "ternary": {
           "aaxis": {
            "gridcolor": "white",
            "linecolor": "white",
            "ticks": ""
           },
           "baxis": {
            "gridcolor": "white",
            "linecolor": "white",
            "ticks": ""
           },
           "bgcolor": "#E5ECF6",
           "caxis": {
            "gridcolor": "white",
            "linecolor": "white",
            "ticks": ""
           }
          },
          "title": {
           "x": 0.05
          },
          "xaxis": {
           "automargin": true,
           "gridcolor": "white",
           "linecolor": "white",
           "ticks": "",
           "title": {
            "standoff": 15
           },
           "zerolinecolor": "white",
           "zerolinewidth": 2
          },
          "yaxis": {
           "automargin": true,
           "gridcolor": "white",
           "linecolor": "white",
           "ticks": "",
           "title": {
            "standoff": 15
           },
           "zerolinecolor": "white",
           "zerolinewidth": 2
          }
         }
        },
        "xaxis": {
         "anchor": "y",
         "domain": [
          0,
          1
         ],
         "title": {
          "text": "x"
         }
        },
        "yaxis": {
         "anchor": "x",
         "domain": [
          0,
          1
         ],
         "title": {
          "text": "y"
         }
        }
       }
      }
     },
     "metadata": {},
     "output_type": "display_data"
    }
   ],
   "source": [
    "puplot(per['l'], per['p'])"
   ]
  },
  {
   "cell_type": "code",
   "execution_count": 21,
   "metadata": {},
   "outputs": [],
   "source": [
    "tot = tot[tot['p'] < 100]"
   ]
  },
  {
   "cell_type": "code",
   "execution_count": 53,
   "metadata": {},
   "outputs": [
    {
     "data": {
      "application/vnd.plotly.v1+json": {
       "config": {
        "plotlyServerURL": "https://plot.ly"
       },
       "data": [
        {
         "error_x": {
          "array": [
           0.05,
           0.05,
           0.05,
           0.05,
           0.05,
           0.05,
           0.05,
           0.05,
           0.05,
           0.05,
           0.05,
           0.05,
           0.05,
           0.05,
           0.05,
           0.05,
           0.05,
           0.05,
           0.05,
           0.05,
           0.05,
           0.05
          ]
         },
         "error_y": {
          "array": [
           0,
           0,
           0,
           0,
           0,
           0,
           0,
           0,
           0,
           0,
           0,
           0,
           0,
           0,
           0,
           0,
           0,
           0,
           0,
           0,
           0,
           0
          ]
         },
         "hovertemplate": "x=%{x}<br>y=%{y}<extra></extra>",
         "legendgroup": "",
         "marker": {
          "color": "#636efa",
          "symbol": "circle"
         },
         "mode": "markers",
         "name": "",
         "orientation": "v",
         "showlegend": false,
         "type": "scatter",
         "x": [
          0.9,
          0.5,
          0.4,
          0.8,
          2.35,
          0.3,
          1.55,
          1.95,
          2.15,
          0.2,
          1.2,
          1.75,
          0.1,
          1.1,
          1,
          1.45,
          0.7,
          1.85,
          2.25,
          1.65,
          0.6,
          2.05
         ],
         "xaxis": "x",
         "y": [
          0.4753227798505416,
          1.0281780753567482,
          1.7450444795864395,
          3.740436364690781,
          5.0473924694327525,
          5.035077373489346,
          5.548918269174457,
          6.754927841662416,
          7.6931585701031775,
          7.785633640442218,
          8.182542592782195,
          9.20634703934364,
          11.741433424054627,
          12.926070135972353,
          13.608301707989748,
          14.295233810154729,
          15.208490685153611,
          16.318726980759934,
          15.452779552221653,
          9.3724566607292,
          10.264039335722968,
          11.799781685728497
         ],
         "yaxis": "y"
        }
       ],
       "layout": {
        "legend": {
         "tracegroupgap": 0
        },
        "margin": {
         "t": 60
        },
        "template": {
         "data": {
          "bar": [
           {
            "error_x": {
             "color": "#2a3f5f"
            },
            "error_y": {
             "color": "#2a3f5f"
            },
            "marker": {
             "line": {
              "color": "#E5ECF6",
              "width": 0.5
             },
             "pattern": {
              "fillmode": "overlay",
              "size": 10,
              "solidity": 0.2
             }
            },
            "type": "bar"
           }
          ],
          "barpolar": [
           {
            "marker": {
             "line": {
              "color": "#E5ECF6",
              "width": 0.5
             },
             "pattern": {
              "fillmode": "overlay",
              "size": 10,
              "solidity": 0.2
             }
            },
            "type": "barpolar"
           }
          ],
          "carpet": [
           {
            "aaxis": {
             "endlinecolor": "#2a3f5f",
             "gridcolor": "white",
             "linecolor": "white",
             "minorgridcolor": "white",
             "startlinecolor": "#2a3f5f"
            },
            "baxis": {
             "endlinecolor": "#2a3f5f",
             "gridcolor": "white",
             "linecolor": "white",
             "minorgridcolor": "white",
             "startlinecolor": "#2a3f5f"
            },
            "type": "carpet"
           }
          ],
          "choropleth": [
           {
            "colorbar": {
             "outlinewidth": 0,
             "ticks": ""
            },
            "type": "choropleth"
           }
          ],
          "contour": [
           {
            "colorbar": {
             "outlinewidth": 0,
             "ticks": ""
            },
            "colorscale": [
             [
              0,
              "#0d0887"
             ],
             [
              0.1111111111111111,
              "#46039f"
             ],
             [
              0.2222222222222222,
              "#7201a8"
             ],
             [
              0.3333333333333333,
              "#9c179e"
             ],
             [
              0.4444444444444444,
              "#bd3786"
             ],
             [
              0.5555555555555556,
              "#d8576b"
             ],
             [
              0.6666666666666666,
              "#ed7953"
             ],
             [
              0.7777777777777778,
              "#fb9f3a"
             ],
             [
              0.8888888888888888,
              "#fdca26"
             ],
             [
              1,
              "#f0f921"
             ]
            ],
            "type": "contour"
           }
          ],
          "contourcarpet": [
           {
            "colorbar": {
             "outlinewidth": 0,
             "ticks": ""
            },
            "type": "contourcarpet"
           }
          ],
          "heatmap": [
           {
            "colorbar": {
             "outlinewidth": 0,
             "ticks": ""
            },
            "colorscale": [
             [
              0,
              "#0d0887"
             ],
             [
              0.1111111111111111,
              "#46039f"
             ],
             [
              0.2222222222222222,
              "#7201a8"
             ],
             [
              0.3333333333333333,
              "#9c179e"
             ],
             [
              0.4444444444444444,
              "#bd3786"
             ],
             [
              0.5555555555555556,
              "#d8576b"
             ],
             [
              0.6666666666666666,
              "#ed7953"
             ],
             [
              0.7777777777777778,
              "#fb9f3a"
             ],
             [
              0.8888888888888888,
              "#fdca26"
             ],
             [
              1,
              "#f0f921"
             ]
            ],
            "type": "heatmap"
           }
          ],
          "heatmapgl": [
           {
            "colorbar": {
             "outlinewidth": 0,
             "ticks": ""
            },
            "colorscale": [
             [
              0,
              "#0d0887"
             ],
             [
              0.1111111111111111,
              "#46039f"
             ],
             [
              0.2222222222222222,
              "#7201a8"
             ],
             [
              0.3333333333333333,
              "#9c179e"
             ],
             [
              0.4444444444444444,
              "#bd3786"
             ],
             [
              0.5555555555555556,
              "#d8576b"
             ],
             [
              0.6666666666666666,
              "#ed7953"
             ],
             [
              0.7777777777777778,
              "#fb9f3a"
             ],
             [
              0.8888888888888888,
              "#fdca26"
             ],
             [
              1,
              "#f0f921"
             ]
            ],
            "type": "heatmapgl"
           }
          ],
          "histogram": [
           {
            "marker": {
             "pattern": {
              "fillmode": "overlay",
              "size": 10,
              "solidity": 0.2
             }
            },
            "type": "histogram"
           }
          ],
          "histogram2d": [
           {
            "colorbar": {
             "outlinewidth": 0,
             "ticks": ""
            },
            "colorscale": [
             [
              0,
              "#0d0887"
             ],
             [
              0.1111111111111111,
              "#46039f"
             ],
             [
              0.2222222222222222,
              "#7201a8"
             ],
             [
              0.3333333333333333,
              "#9c179e"
             ],
             [
              0.4444444444444444,
              "#bd3786"
             ],
             [
              0.5555555555555556,
              "#d8576b"
             ],
             [
              0.6666666666666666,
              "#ed7953"
             ],
             [
              0.7777777777777778,
              "#fb9f3a"
             ],
             [
              0.8888888888888888,
              "#fdca26"
             ],
             [
              1,
              "#f0f921"
             ]
            ],
            "type": "histogram2d"
           }
          ],
          "histogram2dcontour": [
           {
            "colorbar": {
             "outlinewidth": 0,
             "ticks": ""
            },
            "colorscale": [
             [
              0,
              "#0d0887"
             ],
             [
              0.1111111111111111,
              "#46039f"
             ],
             [
              0.2222222222222222,
              "#7201a8"
             ],
             [
              0.3333333333333333,
              "#9c179e"
             ],
             [
              0.4444444444444444,
              "#bd3786"
             ],
             [
              0.5555555555555556,
              "#d8576b"
             ],
             [
              0.6666666666666666,
              "#ed7953"
             ],
             [
              0.7777777777777778,
              "#fb9f3a"
             ],
             [
              0.8888888888888888,
              "#fdca26"
             ],
             [
              1,
              "#f0f921"
             ]
            ],
            "type": "histogram2dcontour"
           }
          ],
          "mesh3d": [
           {
            "colorbar": {
             "outlinewidth": 0,
             "ticks": ""
            },
            "type": "mesh3d"
           }
          ],
          "parcoords": [
           {
            "line": {
             "colorbar": {
              "outlinewidth": 0,
              "ticks": ""
             }
            },
            "type": "parcoords"
           }
          ],
          "pie": [
           {
            "automargin": true,
            "type": "pie"
           }
          ],
          "scatter": [
           {
            "fillpattern": {
             "fillmode": "overlay",
             "size": 10,
             "solidity": 0.2
            },
            "type": "scatter"
           }
          ],
          "scatter3d": [
           {
            "line": {
             "colorbar": {
              "outlinewidth": 0,
              "ticks": ""
             }
            },
            "marker": {
             "colorbar": {
              "outlinewidth": 0,
              "ticks": ""
             }
            },
            "type": "scatter3d"
           }
          ],
          "scattercarpet": [
           {
            "marker": {
             "colorbar": {
              "outlinewidth": 0,
              "ticks": ""
             }
            },
            "type": "scattercarpet"
           }
          ],
          "scattergeo": [
           {
            "marker": {
             "colorbar": {
              "outlinewidth": 0,
              "ticks": ""
             }
            },
            "type": "scattergeo"
           }
          ],
          "scattergl": [
           {
            "marker": {
             "colorbar": {
              "outlinewidth": 0,
              "ticks": ""
             }
            },
            "type": "scattergl"
           }
          ],
          "scattermapbox": [
           {
            "marker": {
             "colorbar": {
              "outlinewidth": 0,
              "ticks": ""
             }
            },
            "type": "scattermapbox"
           }
          ],
          "scatterpolar": [
           {
            "marker": {
             "colorbar": {
              "outlinewidth": 0,
              "ticks": ""
             }
            },
            "type": "scatterpolar"
           }
          ],
          "scatterpolargl": [
           {
            "marker": {
             "colorbar": {
              "outlinewidth": 0,
              "ticks": ""
             }
            },
            "type": "scatterpolargl"
           }
          ],
          "scatterternary": [
           {
            "marker": {
             "colorbar": {
              "outlinewidth": 0,
              "ticks": ""
             }
            },
            "type": "scatterternary"
           }
          ],
          "surface": [
           {
            "colorbar": {
             "outlinewidth": 0,
             "ticks": ""
            },
            "colorscale": [
             [
              0,
              "#0d0887"
             ],
             [
              0.1111111111111111,
              "#46039f"
             ],
             [
              0.2222222222222222,
              "#7201a8"
             ],
             [
              0.3333333333333333,
              "#9c179e"
             ],
             [
              0.4444444444444444,
              "#bd3786"
             ],
             [
              0.5555555555555556,
              "#d8576b"
             ],
             [
              0.6666666666666666,
              "#ed7953"
             ],
             [
              0.7777777777777778,
              "#fb9f3a"
             ],
             [
              0.8888888888888888,
              "#fdca26"
             ],
             [
              1,
              "#f0f921"
             ]
            ],
            "type": "surface"
           }
          ],
          "table": [
           {
            "cells": {
             "fill": {
              "color": "#EBF0F8"
             },
             "line": {
              "color": "white"
             }
            },
            "header": {
             "fill": {
              "color": "#C8D4E3"
             },
             "line": {
              "color": "white"
             }
            },
            "type": "table"
           }
          ]
         },
         "layout": {
          "annotationdefaults": {
           "arrowcolor": "#2a3f5f",
           "arrowhead": 0,
           "arrowwidth": 1
          },
          "autotypenumbers": "strict",
          "coloraxis": {
           "colorbar": {
            "outlinewidth": 0,
            "ticks": ""
           }
          },
          "colorscale": {
           "diverging": [
            [
             0,
             "#8e0152"
            ],
            [
             0.1,
             "#c51b7d"
            ],
            [
             0.2,
             "#de77ae"
            ],
            [
             0.3,
             "#f1b6da"
            ],
            [
             0.4,
             "#fde0ef"
            ],
            [
             0.5,
             "#f7f7f7"
            ],
            [
             0.6,
             "#e6f5d0"
            ],
            [
             0.7,
             "#b8e186"
            ],
            [
             0.8,
             "#7fbc41"
            ],
            [
             0.9,
             "#4d9221"
            ],
            [
             1,
             "#276419"
            ]
           ],
           "sequential": [
            [
             0,
             "#0d0887"
            ],
            [
             0.1111111111111111,
             "#46039f"
            ],
            [
             0.2222222222222222,
             "#7201a8"
            ],
            [
             0.3333333333333333,
             "#9c179e"
            ],
            [
             0.4444444444444444,
             "#bd3786"
            ],
            [
             0.5555555555555556,
             "#d8576b"
            ],
            [
             0.6666666666666666,
             "#ed7953"
            ],
            [
             0.7777777777777778,
             "#fb9f3a"
            ],
            [
             0.8888888888888888,
             "#fdca26"
            ],
            [
             1,
             "#f0f921"
            ]
           ],
           "sequentialminus": [
            [
             0,
             "#0d0887"
            ],
            [
             0.1111111111111111,
             "#46039f"
            ],
            [
             0.2222222222222222,
             "#7201a8"
            ],
            [
             0.3333333333333333,
             "#9c179e"
            ],
            [
             0.4444444444444444,
             "#bd3786"
            ],
            [
             0.5555555555555556,
             "#d8576b"
            ],
            [
             0.6666666666666666,
             "#ed7953"
            ],
            [
             0.7777777777777778,
             "#fb9f3a"
            ],
            [
             0.8888888888888888,
             "#fdca26"
            ],
            [
             1,
             "#f0f921"
            ]
           ]
          },
          "colorway": [
           "#636efa",
           "#EF553B",
           "#00cc96",
           "#ab63fa",
           "#FFA15A",
           "#19d3f3",
           "#FF6692",
           "#B6E880",
           "#FF97FF",
           "#FECB52"
          ],
          "font": {
           "color": "#2a3f5f"
          },
          "geo": {
           "bgcolor": "white",
           "lakecolor": "white",
           "landcolor": "#E5ECF6",
           "showlakes": true,
           "showland": true,
           "subunitcolor": "white"
          },
          "hoverlabel": {
           "align": "left"
          },
          "hovermode": "closest",
          "mapbox": {
           "style": "light"
          },
          "paper_bgcolor": "white",
          "plot_bgcolor": "#E5ECF6",
          "polar": {
           "angularaxis": {
            "gridcolor": "white",
            "linecolor": "white",
            "ticks": ""
           },
           "bgcolor": "#E5ECF6",
           "radialaxis": {
            "gridcolor": "white",
            "linecolor": "white",
            "ticks": ""
           }
          },
          "scene": {
           "xaxis": {
            "backgroundcolor": "#E5ECF6",
            "gridcolor": "white",
            "gridwidth": 2,
            "linecolor": "white",
            "showbackground": true,
            "ticks": "",
            "zerolinecolor": "white"
           },
           "yaxis": {
            "backgroundcolor": "#E5ECF6",
            "gridcolor": "white",
            "gridwidth": 2,
            "linecolor": "white",
            "showbackground": true,
            "ticks": "",
            "zerolinecolor": "white"
           },
           "zaxis": {
            "backgroundcolor": "#E5ECF6",
            "gridcolor": "white",
            "gridwidth": 2,
            "linecolor": "white",
            "showbackground": true,
            "ticks": "",
            "zerolinecolor": "white"
           }
          },
          "shapedefaults": {
           "line": {
            "color": "#2a3f5f"
           }
          },
          "ternary": {
           "aaxis": {
            "gridcolor": "white",
            "linecolor": "white",
            "ticks": ""
           },
           "baxis": {
            "gridcolor": "white",
            "linecolor": "white",
            "ticks": ""
           },
           "bgcolor": "#E5ECF6",
           "caxis": {
            "gridcolor": "white",
            "linecolor": "white",
            "ticks": ""
           }
          },
          "title": {
           "x": 0.05
          },
          "xaxis": {
           "automargin": true,
           "gridcolor": "white",
           "linecolor": "white",
           "ticks": "",
           "title": {
            "standoff": 15
           },
           "zerolinecolor": "white",
           "zerolinewidth": 2
          },
          "yaxis": {
           "automargin": true,
           "gridcolor": "white",
           "linecolor": "white",
           "ticks": "",
           "title": {
            "standoff": 15
           },
           "zerolinecolor": "white",
           "zerolinewidth": 2
          }
         }
        },
        "xaxis": {
         "anchor": "y",
         "domain": [
          0,
          1
         ],
         "title": {
          "text": "x"
         }
        },
        "yaxis": {
         "anchor": "x",
         "domain": [
          0,
          1
         ],
         "title": {
          "text": "y"
         }
        }
       }
      }
     },
     "metadata": {},
     "output_type": "display_data"
    }
   ],
   "source": [
    "puplot(tot['l'], tot['theta'])"
   ]
  },
  {
   "cell_type": "code",
   "execution_count": 37,
   "metadata": {},
   "outputs": [
    {
     "data": {
      "application/vnd.plotly.v1+json": {
       "config": {
        "plotlyServerURL": "https://plot.ly"
       },
       "data": [
        {
         "error_x": {
          "array": [
           0,
           0,
           0,
           0,
           0,
           0,
           0,
           0,
           0,
           0,
           0,
           0,
           0,
           0,
           0,
           0,
           0,
           0,
           0,
           0,
           0,
           0,
           0,
           0,
           0,
           0,
           0,
           0,
           0,
           0,
           0,
           0,
           0,
           0,
           0,
           0,
           0,
           0,
           0,
           0,
           0,
           0,
           0,
           0,
           0,
           0,
           0,
           0,
           0,
           0,
           0,
           0,
           0,
           0,
           0,
           0,
           0,
           0,
           0,
           0,
           0,
           0,
           0,
           0,
           0,
           0,
           0,
           0,
           0,
           0,
           0,
           0,
           0,
           0,
           0,
           0,
           0,
           0,
           0,
           0,
           0,
           0,
           0,
           0,
           0,
           0,
           0,
           0,
           0,
           0,
           0,
           0,
           0,
           0,
           0,
           0,
           0,
           0,
           0,
           0,
           0,
           0,
           0,
           0,
           0,
           0,
           0,
           0,
           0,
           0,
           0,
           0,
           0,
           0,
           0,
           0,
           0,
           0,
           0,
           0,
           0,
           0,
           0,
           0,
           0,
           0,
           0,
           0,
           0,
           0,
           0,
           0,
           0,
           0,
           0,
           0,
           0,
           0,
           0,
           0,
           0,
           0,
           0,
           0,
           0,
           0,
           0,
           0,
           0,
           0,
           0,
           0,
           0,
           0,
           0,
           0,
           0,
           0,
           0,
           0,
           0,
           0,
           0,
           0,
           0,
           0,
           0,
           0,
           0,
           0,
           0,
           0,
           0,
           0,
           0,
           0,
           0,
           0,
           0,
           0,
           0,
           0,
           0,
           0,
           0,
           0,
           0,
           0,
           0,
           0,
           0,
           0,
           0,
           0,
           0,
           0,
           0,
           0,
           0,
           0,
           0,
           0,
           0,
           0,
           0,
           0,
           0,
           0,
           0,
           0,
           0,
           0,
           0,
           0,
           0,
           0,
           0,
           0,
           0,
           0,
           0,
           0,
           0,
           0,
           0,
           0,
           0,
           0,
           0,
           0,
           0,
           0,
           0,
           0,
           0,
           0,
           0,
           0,
           0,
           0,
           0,
           0,
           0,
           0,
           0,
           0,
           0,
           0,
           0,
           0,
           0,
           0,
           0,
           0,
           0,
           0,
           0,
           0,
           0,
           0,
           0,
           0,
           0,
           0,
           0,
           0,
           0,
           0,
           0,
           0,
           0,
           0,
           0,
           0,
           0,
           0,
           0,
           0,
           0,
           0,
           0,
           0,
           0,
           0,
           0,
           0,
           0,
           0,
           0,
           0,
           0,
           0,
           0,
           0,
           0,
           0,
           0,
           0,
           0,
           0,
           0,
           0,
           0,
           0,
           0,
           0,
           0,
           0,
           0,
           0,
           0,
           0,
           0,
           0,
           0,
           0,
           0,
           0,
           0,
           0,
           0,
           0,
           0,
           0,
           0,
           0,
           0,
           0,
           0,
           0,
           0,
           0,
           0,
           0,
           0,
           0,
           0,
           0,
           0,
           0,
           0,
           0,
           0,
           0,
           0,
           0,
           0,
           0,
           0,
           0,
           0,
           0,
           0,
           0,
           0,
           0,
           0,
           0,
           0,
           0,
           0,
           0,
           0,
           0,
           0,
           0,
           0,
           0,
           0,
           0,
           0,
           0,
           0,
           0,
           0,
           0,
           0,
           0,
           0,
           0,
           0,
           0,
           0,
           0,
           0,
           0,
           0,
           0,
           0,
           0,
           0,
           0,
           0,
           0,
           0,
           0,
           0,
           0,
           0,
           0,
           0
          ]
         },
         "error_y": {
          "array": [
           0,
           0,
           0,
           0,
           0,
           0,
           0,
           0,
           0,
           0,
           0,
           0,
           0,
           0,
           0,
           0,
           0,
           0,
           0,
           0,
           0,
           0,
           0,
           0,
           0,
           0,
           0,
           0,
           0,
           0,
           0,
           0,
           0,
           0,
           0,
           0,
           0,
           0,
           0,
           0,
           0,
           0,
           0,
           0,
           0,
           0,
           0,
           0,
           0,
           0,
           0,
           0,
           0,
           0,
           0,
           0,
           0,
           0,
           0,
           0,
           0,
           0,
           0,
           0,
           0,
           0,
           0,
           0,
           0,
           0,
           0,
           0,
           0,
           0,
           0,
           0,
           0,
           0,
           0,
           0,
           0,
           0,
           0,
           0,
           0,
           0,
           0,
           0,
           0,
           0,
           0,
           0,
           0,
           0,
           0,
           0,
           0,
           0,
           0,
           0,
           0,
           0,
           0,
           0,
           0,
           0,
           0,
           0,
           0,
           0,
           0,
           0,
           0,
           0,
           0,
           0,
           0,
           0,
           0,
           0,
           0,
           0,
           0,
           0,
           0,
           0,
           0,
           0,
           0,
           0,
           0,
           0,
           0,
           0,
           0,
           0,
           0,
           0,
           0,
           0,
           0,
           0,
           0,
           0,
           0,
           0,
           0,
           0,
           0,
           0,
           0,
           0,
           0,
           0,
           0,
           0,
           0,
           0,
           0,
           0,
           0,
           0,
           0,
           0,
           0,
           0,
           0,
           0,
           0,
           0,
           0,
           0,
           0,
           0,
           0,
           0,
           0,
           0,
           0,
           0,
           0,
           0,
           0,
           0,
           0,
           0,
           0,
           0,
           0,
           0,
           0,
           0,
           0,
           0,
           0,
           0,
           0,
           0,
           0,
           0,
           0,
           0,
           0,
           0,
           0,
           0,
           0,
           0,
           0,
           0,
           0,
           0,
           0,
           0,
           0,
           0,
           0,
           0,
           0,
           0,
           0,
           0,
           0,
           0,
           0,
           0,
           0,
           0,
           0,
           0,
           0,
           0,
           0,
           0,
           0,
           0,
           0,
           0,
           0,
           0,
           0,
           0,
           0,
           0,
           0,
           0,
           0,
           0,
           0,
           0,
           0,
           0,
           0,
           0,
           0,
           0,
           0,
           0,
           0,
           0,
           0,
           0,
           0,
           0,
           0,
           0,
           0,
           0,
           0,
           0,
           0,
           0,
           0,
           0,
           0,
           0,
           0,
           0,
           0,
           0,
           0,
           0,
           0,
           0,
           0,
           0,
           0,
           0,
           0,
           0,
           0,
           0,
           0,
           0,
           0,
           0,
           0,
           0,
           0,
           0,
           0,
           0,
           0,
           0,
           0,
           0,
           0,
           0,
           0,
           0,
           0,
           0,
           0,
           0,
           0,
           0,
           0,
           0,
           0,
           0,
           0,
           0,
           0,
           0,
           0,
           0,
           0,
           0,
           0,
           0,
           0,
           0,
           0,
           0,
           0,
           0,
           0,
           0,
           0,
           0,
           0,
           0,
           0,
           0,
           0,
           0,
           0,
           0,
           0,
           0,
           0,
           0,
           0,
           0,
           0,
           0,
           0,
           0,
           0,
           0,
           0,
           0,
           0,
           0,
           0,
           0,
           0,
           0,
           0,
           0,
           0,
           0,
           0,
           0,
           0,
           0,
           0,
           0,
           0,
           0,
           0,
           0,
           0,
           0,
           0,
           0,
           0,
           0,
           0,
           0,
           0,
           0,
           0,
           0,
           0,
           0,
           0,
           0,
           0,
           0,
           0
          ]
         },
         "hovertemplate": "x=%{x}<br>y=%{y}<extra></extra>",
         "legendgroup": "",
         "marker": {
          "color": "#636efa",
          "symbol": "circle"
         },
         "mode": "markers",
         "name": "",
         "orientation": "v",
         "showlegend": false,
         "type": "scatter",
         "x": [
          0,
          0.1240072250366211,
          0.2210125923156738,
          0.3030173778533936,
          0.4140236377716064,
          0.5180296897888184,
          0.6090350151062012,
          0.710040807723999,
          0.8080463409423828,
          0.9330534934997559,
          1.032059192657471,
          1.117063999176025,
          1.206068992614746,
          1.323075771331787,
          1.425081491470337,
          1.532087802886963,
          1.631093502044678,
          1.704097509384155,
          1.81010365486145,
          1.903109073638916,
          2.016115427017212,
          2.106120586395264,
          2.222126960754395,
          2.331133365631104,
          2.436139583587646,
          2.502143144607544,
          2.60914945602417,
          2.700154542922974,
          2.801160097122192,
          2.907166481018066,
          3.028173208236694,
          3.131179332733154,
          3.201183080673218,
          3.306189298629761,
          3.404194831848145,
          3.513200998306274,
          3.611206531524658,
          3.702211856842041,
          3.813218355178833,
          3.908223628997803,
          4.007229089736938,
          4.115235567092896,
          4.205240488052368,
          4.322247266769409,
          4.422252893447876,
          4.512258291244507,
          4.600263118743896,
          4.709269523620605,
          4.80827522277832,
          4.905280828475952,
          5.017287015914917,
          5.106292247772217,
          5.220298767089844,
          5.338305473327637,
          5.435311079025269,
          5.523315906524658,
          5.616321325302124,
          5.703326225280762,
          5.801331996917725,
          5.909337997436523,
          6.010343790054321,
          6.109349489212036,
          6.210355043411255,
          6.315361261367798,
          6.422367334365845,
          6.519372940063477,
          6.608378171920776,
          6.709383964538574,
          6.814389944076538,
          6.902394771575928,
          7.006401062011719,
          7.112406730651855,
          7.209412574768066,
          7.301417589187622,
          7.400423288345337,
          7.519430160522461,
          7.625436305999756,
          7.718441724777222,
          7.808446645736694,
          7.910452365875244,
          8.01745867729187,
          8.109463930130005,
          8.219470024108887,
          8.336476802825928,
          8.436482667922974,
          8.507486581802368,
          8.616492986679077,
          8.708498239517212,
          8.817504405975342,
          8.91250991821289,
          9.009515523910522,
          9.106521129608154,
          9.211526870727539,
          9.326533555984497,
          9.420538902282715,
          9.527544975280762,
          9.631551027297974,
          9.733556985855103,
          9.837562799453735,
          9.93656849861145,
          10.00957250595093,
          10.11257839202881,
          10.20258378982544,
          10.30858969688416,
          10.41259574890137,
          10.51860165596008,
          10.62260746955872,
          10.72261357307434,
          10.8146185874939,
          10.92062449455261,
          11.00862979888916,
          11.10763549804688,
          11.20464086532593,
          11.31164693832397,
          11.41065287590027,
          11.5096583366394,
          11.61366438865662,
          11.71066975593567,
          11.80967545509338,
          11.92068195343018,
          12.00068664550781,
          12.10269236564636,
          12.20269799232483,
          12.30670404434204,
          12.41070985794067,
          12.50671529769897,
          12.60472106933594,
          12.70072650909424,
          12.80073237419128,
          12.91273880004883,
          13.00774383544922,
          13.11275005340576,
          13.21375584602356,
          13.31176137924194,
          13.41576743125916,
          13.50277233123779,
          13.61977910995483,
          13.7247850894928,
          13.83179140090942,
          13.94879794120789,
          14.05080366134644,
          14.12080764770508,
          14.22681379318237,
          14.3038182258606,
          14.40882420539856,
          14.50682973861694,
          14.61383605003357,
          14.70984125137329,
          14.80084657669067,
          14.90385246276855,
          15.0088586807251,
          15.10786437988281,
          15.21387028694153,
          15.30587577819824,
          15.4048810005188,
          15.51888751983643,
          15.60889291763306,
          15.72189950942993,
          15.84090614318848,
          15.9599130153656,
          16.08091974258423,
          16.20092678070068,
          16.32093358039856,
          16.44094038009644,
          16.56094741821289,
          16.65895295143127,
          16.72795701026917,
          16.82596254348755,
          16.92996835708618,
          16.99797248840332,
          17.06697630882263,
          17.16398167610168,
          17.2559871673584,
          17.32499122619629,
          17.43299698829651,
          17.53400278091431,
          17.6280083656311,
          17.73501443862915,
          17.80501866340637,
          17.91202449798584,
          18.01603078842163,
          18.12603688240051,
          18.20504140853882,
          18.30104684829712,
          18.421053647995,
          18.54106044769287,
          18.66506767272949,
          18.73607158660889,
          18.84407782554626,
          18.91508197784424,
          19.02408838272095,
          19.10509276390076,
          19.2100989818573,
          19.3011040687561,
          19.4021098613739,
          19.53011703491211,
          19.65212416648865,
          19.75713014602661,
          19.86313629150391,
          19.97314238548279,
          20.07814860343933,
          20.15315270423889,
          20.25815868377686,
          20.32916307449341,
          20.43716907501221,
          20.5081729888916,
          20.61617922782898,
          20.70718431472778,
          20.80118989944458,
          20.90319561958313,
          21.01820230484009,
          21.12720847129822,
          21.20821309089661,
          21.3142192363739,
          21.42422556877136,
          21.50522994995117,
          21.61123609542847,
          21.70224118232727,
          21.81524777412415,
          21.90625309944153,
          22.02425980567932,
          22.10626459121704,
          22.21127033233643,
          22.30327582359314,
          22.4152820110321,
          22.50028729438782,
          22.60729312896729,
          22.713299036026,
          22.8023042678833,
          22.92031097412109,
          23.04031801223755,
          23.16032481193542,
          23.2803316116333,
          23.39933848381042,
          23.50534439086914,
          23.61235070228577,
          23.72035670280457,
          23.82636284828186,
          23.89436674118042,
          23.98637199401855,
          24.09337830543518,
          24.19038367271423,
          24.2603874206543,
          24.36439371109009,
          24.4333975315094,
          24.50140166282654,
          24.60640740394592,
          24.70541310310364,
          24.81341958045959,
          24.91542530059814,
          25.02243113517761,
          25.13243746757507,
          25.23744344711304,
          25.30644750595093,
          25.41345381736755,
          25.50945925712585,
          25.60946488380432,
          25.71547102928162,
          25.80447602272034,
          25.92148280143738,
          26.03148889541626,
          26.1364951133728,
          26.20549893379211,
          26.31350517272949,
          26.41151070594788,
          26.50251603126526,
          26.61252212524414,
          26.70552754402161,
          26.80553317070007,
          26.91453957557678,
          27.008544921875,
          27.10755062103271,
          27.20955634117126,
          27.30856204032898,
          27.40756750106812,
          27.51457381248474,
          27.60357880592346,
          27.72158551216125,
          27.82059121131897,
          27.90959644317627,
          28.00960230827332,
          28.11560821533203,
          28.20361304283142,
          28.32161998748779,
          28.43162608146667,
          28.53763246536255,
          28.60663628578186,
          28.71364235877991,
          28.81664824485779,
          28.92465448379517,
          29.01865983009338,
          29.1076648235321,
          29.20067024230957,
          29.31067633628845,
          29.40668201446533,
          29.5066876411438,
          29.61469388008118,
          29.70269894599915,
          29.80970525741577,
          29.91571116447449,
          30.00271606445312,
          30.10172176361084,
          30.20972800254822,
          30.33173489570618,
          30.43874096870422,
          30.54474711418152,
          30.63275218009949,
          30.73075795173645,
          30.80176162719727,
          30.90776777267456,
          31.00777363777161,
          31.11577987670898,
          31.20478487014771,
          31.3227915763855,
          31.42679762840271,
          31.53480362892151,
          31.60480761528015,
          31.71281409263611,
          31.81681990623474,
          31.92582631111145,
          32.00083041191101,
          32.10683631896973,
          32.20684194564819,
          32.3158483505249,
          32.40585374832153,
          32.505859375,
          32.61586546897888,
          32.70587086677551,
          32.81687688827515,
          32.92288327217102,
          33.01288819313049,
          33.10289359092712,
          33.20289921760559,
          33.30390501022339,
          33.40391063690186,
          33.50991678237915,
          33.61392283439636,
          33.70892810821533,
          33.8019335269928,
          33.90693926811218,
          34.00694513320923,
          34.11495137214661,
          34.20595645904541,
          34.30996251106262,
          34.41596841812134,
          34.50597381591797,
          34.60297918319702,
          34.70098471641541,
          34.80699110031128,
          34.90899682044983,
          35.00500226020813,
          35.10800814628601,
          35.20901393890381,
          35.31702017784119,
          35.40702533721924,
          35.5240318775177,
          35.60503649711609,
          35.71004247665405,
          35.80104780197144,
          35.91505432128906,
          36.00505948066711,
          36.12306594848633,
          36.2040708065033,
          36.31107711791992,
          36.40108203887939,
          36.51408863067627,
          36.60509395599365,
          36.72310066223145,
          36.82210612297058,
          36.91311120986938,
          37.00811696052551,
          37.11612272262573,
          37.20712828636169,
          37.32413482666016,
          37.41514015197754,
          37.50614523887634,
          37.60215091705322,
          37.71115684509277,
          37.81416296958923,
          37.92316913604736,
          38.01717448234558,
          38.10717964172363,
          38.20618534088135,
          38.31519150733948,
          38.4041965007782,
          38.50320219993591,
          38.60720825195312,
          38.71121430397034,
          38.80221939086914,
          38.90922570228577,
          39.03223276138306,
          39.13723850250244,
          39.2452449798584,
          39.31524872779846,
          39.42425513267517,
          39.50525975227356,
          39.61126565933228,
          39.70227098464966,
          39.81527733802795,
          39.90528249740601,
          40.0232892036438
         ],
         "xaxis": "x",
         "y": [
          0.00007183495,
          0.00007232602,
          0.00007279792,
          0.00007318545,
          0.00007339721,
          0.00007348724,
          0.00007337995,
          0.00007295667,
          0.00007257335,
          0.00007166618,
          0.00007105875,
          0.00007049347,
          0.00006992048,
          0.00006893363,
          0.00006822458,
          0.00006744869,
          0.00006671386,
          0.00006617982,
          0.00006531797,
          0.00006461948,
          0.00006381587,
          0.00006306808,
          0.00006239407,
          0.00006169626,
          0.00006115392,
          0.00006093225,
          0.00006056095,
          0.00006038561,
          0.00006042678,
          0.00006059849,
          0.00006064522,
          0.00006067628,
          0.00006073357,
          0.00006091807,
          0.00006136324,
          0.00006194688,
          0.000062504,
          0.00006299361,
          0.00006364015,
          0.00006419875,
          0.00006465268,
          0.00006528173,
          0.00006578026,
          0.00006636931,
          0.00006679929,
          0.00006736341,
          0.0000678978,
          0.00006815114,
          0.00006852124,
          0.0000688101,
          0.00006892753,
          0.00006906996,
          0.00006914314,
          0.00006918483,
          0.00006913453,
          0.00006897219,
          0.00006879987,
          0.00006854731,
          0.00006823809,
          0.00006783162,
          0.00006740761,
          0.0000669173,
          0.00006644094,
          0.00006576521,
          0.00006514252,
          0.00006453884,
          0.00006402224,
          0.00006341453,
          0.00006271336,
          0.00006219272,
          0.00006149996,
          0.00006087078,
          0.00006042645,
          0.00005998233,
          0.00005951956,
          0.00005889165,
          0.00005823696,
          0.00005777658,
          0.00005729719,
          0.00005674784,
          0.0000561411,
          0.00005567319,
          0.00005505322,
          0.0000542954,
          0.0000536061,
          0.00005317641,
          0.00005242655,
          0.00005180736,
          0.00005109665,
          0.00005046508,
          0.00004995161,
          0.00004948537,
          0.00004898782,
          0.00004857379,
          0.0000482613,
          0.00004807047,
          0.00004796422,
          0.00004802333,
          0.00004812287,
          0.00004832065,
          0.00004844502,
          0.00004873797,
          0.00004898195,
          0.00004946117,
          0.00004998373,
          0.00005071991,
          0.00005136888,
          0.00005194683,
          0.0000525007,
          0.00005313271,
          0.00005380347,
          0.00005501208,
          0.00005775245,
          0.00006422188,
          0.00007314901,
          0.00008105273,
          0.00008539455,
          0.00008469708,
          0.00007999873,
          0.00007131362,
          0.00006390861,
          0.00005553675,
          0.00004979858,
          0.00004535092,
          0.00004145947,
          0.00003800579,
          0.00003541033,
          0.00003362232,
          0.00003236665,
          0.00003208956,
          0.00003324785,
          0.00003677406,
          0.00004176518,
          0.00004756709,
          0.00005346295,
          0.00005754931,
          0.00006139582,
          0.00006372197,
          0.00006522133,
          0.00006623696,
          0.0000668334,
          0.00006720786,
          0.00006756401,
          0.00006789563,
          0.0000682958,
          0.00006881449,
          0.00006951551,
          0.00007017868,
          0.00007091357,
          0.00007166529,
          0.00007247063,
          0.00007312232,
          0.00007382931,
          0.00007437065,
          0.00007481042,
          0.00007505437,
          0.00007524867,
          0.0000753037,
          0.00007530102,
          0.00007518575,
          0.00007537998,
          0.00007594984,
          0.00007647005,
          0.00007641968,
          0.0000758809,
          0.00007560107,
          0.00007577983,
          0.0000766668,
          0.00007845108,
          0.00008008073,
          0.00008190059,
          0.00008450615,
          0.00008685582,
          0.00008848366,
          0.00009075549,
          0.00009265326,
          0.00009404288,
          0.00009516394,
          0.00009564363,
          0.00009592401,
          0.00009591453,
          0.00009557345,
          0.00009537246,
          0.00009596237,
          0.00009834389,
          0.000101378,
          0.0001040028,
          0.000104954,
          0.0001054897,
          0.0001055182,
          0.0001053996,
          0.0001053012,
          0.0001047875,
          0.0001040258,
          0.0001029534,
          0.0001011949,
          0.00009868504,
          0.00009530485,
          0.00009080525,
          0.00008602273,
          0.00008302655,
          0.00008241833,
          0.00008335211,
          0.00008488474,
          0.00008797742,
          0.00009016108,
          0.00009317014,
          0.00009538705,
          0.00009715424,
          0.00009847138,
          0.00009921227,
          0.00009917113,
          0.00009876709,
          0.00009785404,
          0.0000965398,
          0.00009545343,
          0.00009395713,
          0.00009257104,
          0.00009094035,
          0.00008967974,
          0.00008820428,
          0.00008733493,
          0.00008638544,
          0.00008567498,
          0.00008491774,
          0.00008446053,
          0.00008395487,
          0.00008353216,
          0.00008326695,
          0.00008305491,
          0.00008295377,
          0.00008296368,
          0.00008281559,
          0.00008288411,
          0.00008302952,
          0.00008302467,
          0.00008305241,
          0.00008319011,
          0.0000832653,
          0.00008339275,
          0.00008348215,
          0.00008360728,
          0.00008365422,
          0.00008382008,
          0.00008390079,
          0.00008399739,
          0.00008415723,
          0.00008436729,
          0.00008461243,
          0.00008485097,
          0.00008506535,
          0.0000853249,
          0.00008547451,
          0.0000856008,
          0.00008572156,
          0.00008581674,
          0.00008587566,
          0.00008585508,
          0.00008583014,
          0.0000858299,
          0.00008571601,
          0.00008563283,
          0.00008554838,
          0.00008544802,
          0.00008534199,
          0.00008517665,
          0.00008531301,
          0.00008530811,
          0.00008533071,
          0.00008534212,
          0.00008530345,
          0.00008532991,
          0.00008532545,
          0.00008538056,
          0.00008547489,
          0.00008567545,
          0.00008581614,
          0.00008606292,
          0.00008627556,
          0.00008651758,
          0.00008677549,
          0.00008706781,
          0.0000872388,
          0.00008761983,
          0.0000878933,
          0.00008819274,
          0.00008836032,
          0.00008864748,
          0.000088852,
          0.0000891072,
          0.00008927443,
          0.00008942695,
          0.00008955549,
          0.0000896159,
          0.00008974684,
          0.00008980889,
          0.00008991674,
          0.00008996757,
          0.00008998749,
          0.00009004933,
          0.00009001706,
          0.0000899849,
          0.00008994999,
          0.00008988382,
          0.000089822,
          0.00008976018,
          0.00008972482,
          0.00008963754,
          0.00008955959,
          0.00008947247,
          0.00008935346,
          0.00008916252,
          0.00008908417,
          0.00008900807,
          0.00008881011,
          0.00008859111,
          0.00008848963,
          0.00008822386,
          0.00008807761,
          0.00008788266,
          0.00008776888,
          0.00008760006,
          0.00008741911,
          0.00008718899,
          0.00008698423,
          0.00008674974,
          0.00008649941,
          0.00008624716,
          0.00008601659,
          0.00008570234,
          0.00008551112,
          0.00008528626,
          0.00008500797,
          0.00008476584,
          0.00008445753,
          0.00008427844,
          0.00008401375,
          0.00008370294,
          0.00008342505,
          0.0000832246,
          0.00008293794,
          0.00008260486,
          0.00008244185,
          0.00008211956,
          0.00008174653,
          0.00008156762,
          0.00008130798,
          0.0000809745,
          0.00008046612,
          0.0000798977,
          0.00007963896,
          0.00007924069,
          0.00007888123,
          0.00007858897,
          0.00007823265,
          0.00007785099,
          0.00007772792,
          0.00007718946,
          0.00007694557,
          0.00007656707,
          0.00007616386,
          0.00007587764,
          0.00007555394,
          0.00007517426,
          0.00007479902,
          0.00007435479,
          0.0000739152,
          0.00007338807,
          0.00007299792,
          0.0000727054,
          0.00007236318,
          0.00007182303,
          0.00007159633,
          0.00007118795,
          0.000070685,
          0.00007027369,
          0.00006982306,
          0.00006923664,
          0.00006868193,
          0.00006829067,
          0.00006783269,
          0.00006751317,
          0.00006720193,
          0.00006679726,
          0.00006646182,
          0.00006608069,
          0.00006558398,
          0.00006528831,
          0.00006506198,
          0.00006452321,
          0.00006374184,
          0.00006327343,
          0.00006302131,
          0.00006284976,
          0.000062544,
          0.00006226204,
          0.00006202045,
          0.00006175526,
          0.00006144129,
          0.00006115386,
          0.00006084544
         ],
         "yaxis": "y"
        }
       ],
       "layout": {
        "legend": {
         "tracegroupgap": 0
        },
        "margin": {
         "t": 60
        },
        "template": {
         "data": {
          "bar": [
           {
            "error_x": {
             "color": "#2a3f5f"
            },
            "error_y": {
             "color": "#2a3f5f"
            },
            "marker": {
             "line": {
              "color": "#E5ECF6",
              "width": 0.5
             },
             "pattern": {
              "fillmode": "overlay",
              "size": 10,
              "solidity": 0.2
             }
            },
            "type": "bar"
           }
          ],
          "barpolar": [
           {
            "marker": {
             "line": {
              "color": "#E5ECF6",
              "width": 0.5
             },
             "pattern": {
              "fillmode": "overlay",
              "size": 10,
              "solidity": 0.2
             }
            },
            "type": "barpolar"
           }
          ],
          "carpet": [
           {
            "aaxis": {
             "endlinecolor": "#2a3f5f",
             "gridcolor": "white",
             "linecolor": "white",
             "minorgridcolor": "white",
             "startlinecolor": "#2a3f5f"
            },
            "baxis": {
             "endlinecolor": "#2a3f5f",
             "gridcolor": "white",
             "linecolor": "white",
             "minorgridcolor": "white",
             "startlinecolor": "#2a3f5f"
            },
            "type": "carpet"
           }
          ],
          "choropleth": [
           {
            "colorbar": {
             "outlinewidth": 0,
             "ticks": ""
            },
            "type": "choropleth"
           }
          ],
          "contour": [
           {
            "colorbar": {
             "outlinewidth": 0,
             "ticks": ""
            },
            "colorscale": [
             [
              0,
              "#0d0887"
             ],
             [
              0.1111111111111111,
              "#46039f"
             ],
             [
              0.2222222222222222,
              "#7201a8"
             ],
             [
              0.3333333333333333,
              "#9c179e"
             ],
             [
              0.4444444444444444,
              "#bd3786"
             ],
             [
              0.5555555555555556,
              "#d8576b"
             ],
             [
              0.6666666666666666,
              "#ed7953"
             ],
             [
              0.7777777777777778,
              "#fb9f3a"
             ],
             [
              0.8888888888888888,
              "#fdca26"
             ],
             [
              1,
              "#f0f921"
             ]
            ],
            "type": "contour"
           }
          ],
          "contourcarpet": [
           {
            "colorbar": {
             "outlinewidth": 0,
             "ticks": ""
            },
            "type": "contourcarpet"
           }
          ],
          "heatmap": [
           {
            "colorbar": {
             "outlinewidth": 0,
             "ticks": ""
            },
            "colorscale": [
             [
              0,
              "#0d0887"
             ],
             [
              0.1111111111111111,
              "#46039f"
             ],
             [
              0.2222222222222222,
              "#7201a8"
             ],
             [
              0.3333333333333333,
              "#9c179e"
             ],
             [
              0.4444444444444444,
              "#bd3786"
             ],
             [
              0.5555555555555556,
              "#d8576b"
             ],
             [
              0.6666666666666666,
              "#ed7953"
             ],
             [
              0.7777777777777778,
              "#fb9f3a"
             ],
             [
              0.8888888888888888,
              "#fdca26"
             ],
             [
              1,
              "#f0f921"
             ]
            ],
            "type": "heatmap"
           }
          ],
          "heatmapgl": [
           {
            "colorbar": {
             "outlinewidth": 0,
             "ticks": ""
            },
            "colorscale": [
             [
              0,
              "#0d0887"
             ],
             [
              0.1111111111111111,
              "#46039f"
             ],
             [
              0.2222222222222222,
              "#7201a8"
             ],
             [
              0.3333333333333333,
              "#9c179e"
             ],
             [
              0.4444444444444444,
              "#bd3786"
             ],
             [
              0.5555555555555556,
              "#d8576b"
             ],
             [
              0.6666666666666666,
              "#ed7953"
             ],
             [
              0.7777777777777778,
              "#fb9f3a"
             ],
             [
              0.8888888888888888,
              "#fdca26"
             ],
             [
              1,
              "#f0f921"
             ]
            ],
            "type": "heatmapgl"
           }
          ],
          "histogram": [
           {
            "marker": {
             "pattern": {
              "fillmode": "overlay",
              "size": 10,
              "solidity": 0.2
             }
            },
            "type": "histogram"
           }
          ],
          "histogram2d": [
           {
            "colorbar": {
             "outlinewidth": 0,
             "ticks": ""
            },
            "colorscale": [
             [
              0,
              "#0d0887"
             ],
             [
              0.1111111111111111,
              "#46039f"
             ],
             [
              0.2222222222222222,
              "#7201a8"
             ],
             [
              0.3333333333333333,
              "#9c179e"
             ],
             [
              0.4444444444444444,
              "#bd3786"
             ],
             [
              0.5555555555555556,
              "#d8576b"
             ],
             [
              0.6666666666666666,
              "#ed7953"
             ],
             [
              0.7777777777777778,
              "#fb9f3a"
             ],
             [
              0.8888888888888888,
              "#fdca26"
             ],
             [
              1,
              "#f0f921"
             ]
            ],
            "type": "histogram2d"
           }
          ],
          "histogram2dcontour": [
           {
            "colorbar": {
             "outlinewidth": 0,
             "ticks": ""
            },
            "colorscale": [
             [
              0,
              "#0d0887"
             ],
             [
              0.1111111111111111,
              "#46039f"
             ],
             [
              0.2222222222222222,
              "#7201a8"
             ],
             [
              0.3333333333333333,
              "#9c179e"
             ],
             [
              0.4444444444444444,
              "#bd3786"
             ],
             [
              0.5555555555555556,
              "#d8576b"
             ],
             [
              0.6666666666666666,
              "#ed7953"
             ],
             [
              0.7777777777777778,
              "#fb9f3a"
             ],
             [
              0.8888888888888888,
              "#fdca26"
             ],
             [
              1,
              "#f0f921"
             ]
            ],
            "type": "histogram2dcontour"
           }
          ],
          "mesh3d": [
           {
            "colorbar": {
             "outlinewidth": 0,
             "ticks": ""
            },
            "type": "mesh3d"
           }
          ],
          "parcoords": [
           {
            "line": {
             "colorbar": {
              "outlinewidth": 0,
              "ticks": ""
             }
            },
            "type": "parcoords"
           }
          ],
          "pie": [
           {
            "automargin": true,
            "type": "pie"
           }
          ],
          "scatter": [
           {
            "fillpattern": {
             "fillmode": "overlay",
             "size": 10,
             "solidity": 0.2
            },
            "type": "scatter"
           }
          ],
          "scatter3d": [
           {
            "line": {
             "colorbar": {
              "outlinewidth": 0,
              "ticks": ""
             }
            },
            "marker": {
             "colorbar": {
              "outlinewidth": 0,
              "ticks": ""
             }
            },
            "type": "scatter3d"
           }
          ],
          "scattercarpet": [
           {
            "marker": {
             "colorbar": {
              "outlinewidth": 0,
              "ticks": ""
             }
            },
            "type": "scattercarpet"
           }
          ],
          "scattergeo": [
           {
            "marker": {
             "colorbar": {
              "outlinewidth": 0,
              "ticks": ""
             }
            },
            "type": "scattergeo"
           }
          ],
          "scattergl": [
           {
            "marker": {
             "colorbar": {
              "outlinewidth": 0,
              "ticks": ""
             }
            },
            "type": "scattergl"
           }
          ],
          "scattermapbox": [
           {
            "marker": {
             "colorbar": {
              "outlinewidth": 0,
              "ticks": ""
             }
            },
            "type": "scattermapbox"
           }
          ],
          "scatterpolar": [
           {
            "marker": {
             "colorbar": {
              "outlinewidth": 0,
              "ticks": ""
             }
            },
            "type": "scatterpolar"
           }
          ],
          "scatterpolargl": [
           {
            "marker": {
             "colorbar": {
              "outlinewidth": 0,
              "ticks": ""
             }
            },
            "type": "scatterpolargl"
           }
          ],
          "scatterternary": [
           {
            "marker": {
             "colorbar": {
              "outlinewidth": 0,
              "ticks": ""
             }
            },
            "type": "scatterternary"
           }
          ],
          "surface": [
           {
            "colorbar": {
             "outlinewidth": 0,
             "ticks": ""
            },
            "colorscale": [
             [
              0,
              "#0d0887"
             ],
             [
              0.1111111111111111,
              "#46039f"
             ],
             [
              0.2222222222222222,
              "#7201a8"
             ],
             [
              0.3333333333333333,
              "#9c179e"
             ],
             [
              0.4444444444444444,
              "#bd3786"
             ],
             [
              0.5555555555555556,
              "#d8576b"
             ],
             [
              0.6666666666666666,
              "#ed7953"
             ],
             [
              0.7777777777777778,
              "#fb9f3a"
             ],
             [
              0.8888888888888888,
              "#fdca26"
             ],
             [
              1,
              "#f0f921"
             ]
            ],
            "type": "surface"
           }
          ],
          "table": [
           {
            "cells": {
             "fill": {
              "color": "#EBF0F8"
             },
             "line": {
              "color": "white"
             }
            },
            "header": {
             "fill": {
              "color": "#C8D4E3"
             },
             "line": {
              "color": "white"
             }
            },
            "type": "table"
           }
          ]
         },
         "layout": {
          "annotationdefaults": {
           "arrowcolor": "#2a3f5f",
           "arrowhead": 0,
           "arrowwidth": 1
          },
          "autotypenumbers": "strict",
          "coloraxis": {
           "colorbar": {
            "outlinewidth": 0,
            "ticks": ""
           }
          },
          "colorscale": {
           "diverging": [
            [
             0,
             "#8e0152"
            ],
            [
             0.1,
             "#c51b7d"
            ],
            [
             0.2,
             "#de77ae"
            ],
            [
             0.3,
             "#f1b6da"
            ],
            [
             0.4,
             "#fde0ef"
            ],
            [
             0.5,
             "#f7f7f7"
            ],
            [
             0.6,
             "#e6f5d0"
            ],
            [
             0.7,
             "#b8e186"
            ],
            [
             0.8,
             "#7fbc41"
            ],
            [
             0.9,
             "#4d9221"
            ],
            [
             1,
             "#276419"
            ]
           ],
           "sequential": [
            [
             0,
             "#0d0887"
            ],
            [
             0.1111111111111111,
             "#46039f"
            ],
            [
             0.2222222222222222,
             "#7201a8"
            ],
            [
             0.3333333333333333,
             "#9c179e"
            ],
            [
             0.4444444444444444,
             "#bd3786"
            ],
            [
             0.5555555555555556,
             "#d8576b"
            ],
            [
             0.6666666666666666,
             "#ed7953"
            ],
            [
             0.7777777777777778,
             "#fb9f3a"
            ],
            [
             0.8888888888888888,
             "#fdca26"
            ],
            [
             1,
             "#f0f921"
            ]
           ],
           "sequentialminus": [
            [
             0,
             "#0d0887"
            ],
            [
             0.1111111111111111,
             "#46039f"
            ],
            [
             0.2222222222222222,
             "#7201a8"
            ],
            [
             0.3333333333333333,
             "#9c179e"
            ],
            [
             0.4444444444444444,
             "#bd3786"
            ],
            [
             0.5555555555555556,
             "#d8576b"
            ],
            [
             0.6666666666666666,
             "#ed7953"
            ],
            [
             0.7777777777777778,
             "#fb9f3a"
            ],
            [
             0.8888888888888888,
             "#fdca26"
            ],
            [
             1,
             "#f0f921"
            ]
           ]
          },
          "colorway": [
           "#636efa",
           "#EF553B",
           "#00cc96",
           "#ab63fa",
           "#FFA15A",
           "#19d3f3",
           "#FF6692",
           "#B6E880",
           "#FF97FF",
           "#FECB52"
          ],
          "font": {
           "color": "#2a3f5f"
          },
          "geo": {
           "bgcolor": "white",
           "lakecolor": "white",
           "landcolor": "#E5ECF6",
           "showlakes": true,
           "showland": true,
           "subunitcolor": "white"
          },
          "hoverlabel": {
           "align": "left"
          },
          "hovermode": "closest",
          "mapbox": {
           "style": "light"
          },
          "paper_bgcolor": "white",
          "plot_bgcolor": "#E5ECF6",
          "polar": {
           "angularaxis": {
            "gridcolor": "white",
            "linecolor": "white",
            "ticks": ""
           },
           "bgcolor": "#E5ECF6",
           "radialaxis": {
            "gridcolor": "white",
            "linecolor": "white",
            "ticks": ""
           }
          },
          "scene": {
           "xaxis": {
            "backgroundcolor": "#E5ECF6",
            "gridcolor": "white",
            "gridwidth": 2,
            "linecolor": "white",
            "showbackground": true,
            "ticks": "",
            "zerolinecolor": "white"
           },
           "yaxis": {
            "backgroundcolor": "#E5ECF6",
            "gridcolor": "white",
            "gridwidth": 2,
            "linecolor": "white",
            "showbackground": true,
            "ticks": "",
            "zerolinecolor": "white"
           },
           "zaxis": {
            "backgroundcolor": "#E5ECF6",
            "gridcolor": "white",
            "gridwidth": 2,
            "linecolor": "white",
            "showbackground": true,
            "ticks": "",
            "zerolinecolor": "white"
           }
          },
          "shapedefaults": {
           "line": {
            "color": "#2a3f5f"
           }
          },
          "ternary": {
           "aaxis": {
            "gridcolor": "white",
            "linecolor": "white",
            "ticks": ""
           },
           "baxis": {
            "gridcolor": "white",
            "linecolor": "white",
            "ticks": ""
           },
           "bgcolor": "#E5ECF6",
           "caxis": {
            "gridcolor": "white",
            "linecolor": "white",
            "ticks": ""
           }
          },
          "title": {
           "x": 0.05
          },
          "xaxis": {
           "automargin": true,
           "gridcolor": "white",
           "linecolor": "white",
           "ticks": "",
           "title": {
            "standoff": 15
           },
           "zerolinecolor": "white",
           "zerolinewidth": 2
          },
          "yaxis": {
           "automargin": true,
           "gridcolor": "white",
           "linecolor": "white",
           "ticks": "",
           "title": {
            "standoff": 15
           },
           "zerolinecolor": "white",
           "zerolinewidth": 2
          }
         }
        },
        "xaxis": {
         "anchor": "y",
         "domain": [
          0,
          1
         ],
         "title": {
          "text": "x"
         }
        },
        "yaxis": {
         "anchor": "x",
         "domain": [
          0,
          1
         ],
         "title": {
          "text": "y"
         }
        }
       }
      }
     },
     "metadata": {},
     "output_type": "display_data"
    }
   ],
   "source": [
    "puplot(pard['20.5']['t'],pard['20.5']['p'])"
   ]
  },
  {
   "cell_type": "code",
   "execution_count": 22,
   "metadata": {},
   "outputs": [],
   "source": [
    "import shutil\n",
    "\n",
    "os.chdir('/Users/user/Documents/semster_c/courses/lab/polarisation/')\n",
    "folder = 'data/chirality'\n",
    "par = 'data/par/'\n",
    "per = 'data/per/'\n",
    "csv_files = os.listdir(folder)\n",
    "\n",
    "for x in csv_files:\n",
    "    if x.endswith('par.xlsx'):\n",
    "        shutil.copy(os.path.join(folder, x), os.path.join(par, x[:-8] + '.xlsx'))\n",
    "    elif x.endswith('per.xlsx'):\n",
    "        shutil.copy(os.path.join(folder, x), os.path.join(per, x[:-8] + '.xlsx'))\n",
    "    else:\n",
    "        print(f'file type not found: {x}')"
   ]
  },
  {
   "cell_type": "code",
   "execution_count": null,
   "metadata": {},
   "outputs": [],
   "source": [
    "for i in sorted(pard.keys(), key=float):\n",
    "    # i = str(i)\n",
    "    print(i)\n",
    "    puplot(pard[i]['t'], pard[i]['p'])"
   ]
  },
  {
   "cell_type": "code",
   "execution_count": 77,
   "metadata": {},
   "outputs": [],
   "source": [
    "c = 102.8 / 550\n",
    "a = tot['theta'] / (tot['l'] * c)\n",
    "tot['alpha'] = a"
   ]
  },
  {
   "cell_type": "code",
   "execution_count": null,
   "metadata": {},
   "outputs": [],
   "source": [
    "puplot(tot['l'], tot['alpha'])"
   ]
  },
  {
   "cell_type": "code",
   "execution_count": null,
   "metadata": {},
   "outputs": [],
   "source": [
    "I0 = 1.7"
   ]
  }
 ],
 "metadata": {
  "kernelspec": {
   "display_name": "Python 3",
   "language": "python",
   "name": "python3"
  },
  "language_info": {
   "codemirror_mode": {
    "name": "ipython",
    "version": 3
   },
   "file_extension": ".py",
   "mimetype": "text/x-python",
   "name": "python",
   "nbconvert_exporter": "python",
   "pygments_lexer": "ipython3",
   "version": "3.10.9"
  },
  "orig_nbformat": 4,
  "vscode": {
   "interpreter": {
    "hash": "949777d72b0d2535278d3dc13498b2535136f6dfe0678499012e853ee9abcab1"
   }
  }
 },
 "nbformat": 4,
 "nbformat_minor": 2
}
